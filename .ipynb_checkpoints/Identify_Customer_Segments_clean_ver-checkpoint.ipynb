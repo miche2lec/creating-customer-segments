{
 "cells": [
  {
   "cell_type": "markdown",
   "metadata": {},
   "source": [
    "# Project: Identify Customer Segments\n",
    "\n",
    "In this project, you will apply unsupervised learning techniques to identify segments of the population that form the core customer base for a mail-order sales company in Germany. These segments can then be used to direct marketing campaigns towards audiences that will have the highest expected rate of returns. The data that you will use has been provided by our partners at Bertelsmann Arvato Analytics, and represents a real-life data science task.\n"
   ]
  },
  {
   "cell_type": "code",
   "execution_count": 125,
   "metadata": {},
   "outputs": [
    {
     "data": {
      "text/plain": [
       "'\\nImport note: The classroom currently uses sklearn version 0.19.\\nIf you need to use an imputer, it is available in sklearn.preprocessing.Imputer,\\ninstead of sklearn.impute as in newer versions of sklearn.\\n'"
      ]
     },
     "execution_count": 125,
     "metadata": {},
     "output_type": "execute_result"
    }
   ],
   "source": [
    "import numpy as np\n",
    "import pandas as pd\n",
    "import matplotlib.pyplot as plt\n",
    "import seaborn as sns\n",
    "from sklearn import preprocessing as p\n",
    "from sklearn.decomposition import PCA\n",
    "from sklearn.cluster import KMeans\n",
    "import random \n",
    "\n",
    "# magic word for producing visualizations in notebook\n",
    "%matplotlib inline\n",
    "\n",
    "'''\n",
    "Import note: The classroom currently uses sklearn version 0.19.\n",
    "If you need to use an imputer, it is available in sklearn.preprocessing.Imputer,\n",
    "instead of sklearn.impute as in newer versions of sklearn.\n",
    "'''"
   ]
  },
  {
   "cell_type": "markdown",
   "metadata": {},
   "source": [
    "### Step 0: Load the Data\n",
    "\n",
    "There are four files associated with this project (not including this one):\n",
    "\n",
    "- `Udacity_AZDIAS_Subset.csv`: Demographics data for the general population of Germany; 891211 persons (rows) x 85 features (columns).\n",
    "- `Udacity_CUSTOMERS_Subset.csv`: Demographics data for customers of a mail-order company; 191652 persons (rows) x 85 features (columns).\n",
    "- `Data_Dictionary.md`: Detailed information file about the features in the provided datasets.\n",
    "- `AZDIAS_Feature_Summary.csv`: Summary of feature attributes for demographics data; 85 features (rows) x 4 columns\n",
    "\n",
    "Each row of the demographics files represents a single person, but also includes information outside of individuals, including information about their household, building, and neighborhood. You will use this information to cluster the general population into groups with similar demographic properties. Then, you will see how the people in the customers dataset fit into those created clusters. The hope here is that certain clusters are over-represented in the customers data, as compared to the general population; those over-represented clusters will be assumed to be part of the core userbase. This information can then be used for further applications, such as targeting for a marketing campaign.\n"
   ]
  },
  {
   "cell_type": "code",
   "execution_count": 2,
   "metadata": {},
   "outputs": [],
   "source": [
    "azdias = pd.read_csv('Udacity_AZDIAS_Subset.csv', sep=\";\")\n",
    "\n",
    "feat_info = pd.read_csv('AZDIAS_Feature_Summary.csv', sep=\";\")"
   ]
  },
  {
   "cell_type": "code",
   "execution_count": 3,
   "metadata": {},
   "outputs": [
    {
     "name": "stdout",
     "output_type": "stream",
     "text": [
      "<class 'pandas.core.frame.DataFrame'>\n",
      "RangeIndex: 891221 entries, 0 to 891220\n",
      "Data columns (total 85 columns):\n",
      "AGER_TYP                 891221 non-null int64\n",
      "ALTERSKATEGORIE_GROB     891221 non-null int64\n",
      "ANREDE_KZ                891221 non-null int64\n",
      "CJT_GESAMTTYP            886367 non-null float64\n",
      "FINANZ_MINIMALIST        891221 non-null int64\n",
      "FINANZ_SPARER            891221 non-null int64\n",
      "FINANZ_VORSORGER         891221 non-null int64\n",
      "FINANZ_ANLEGER           891221 non-null int64\n",
      "FINANZ_UNAUFFAELLIGER    891221 non-null int64\n",
      "FINANZ_HAUSBAUER         891221 non-null int64\n",
      "FINANZTYP                891221 non-null int64\n",
      "GEBURTSJAHR              891221 non-null int64\n",
      "GFK_URLAUBERTYP          886367 non-null float64\n",
      "GREEN_AVANTGARDE         891221 non-null int64\n",
      "HEALTH_TYP               891221 non-null int64\n",
      "LP_LEBENSPHASE_FEIN      886367 non-null float64\n",
      "LP_LEBENSPHASE_GROB      886367 non-null float64\n",
      "LP_FAMILIE_FEIN          886367 non-null float64\n",
      "LP_FAMILIE_GROB          886367 non-null float64\n",
      "LP_STATUS_FEIN           886367 non-null float64\n",
      "LP_STATUS_GROB           886367 non-null float64\n",
      "NATIONALITAET_KZ         891221 non-null int64\n",
      "PRAEGENDE_JUGENDJAHRE    891221 non-null int64\n",
      "RETOURTYP_BK_S           886367 non-null float64\n",
      "SEMIO_SOZ                891221 non-null int64\n",
      "SEMIO_FAM                891221 non-null int64\n",
      "SEMIO_REL                891221 non-null int64\n",
      "SEMIO_MAT                891221 non-null int64\n",
      "SEMIO_VERT               891221 non-null int64\n",
      "SEMIO_LUST               891221 non-null int64\n",
      "SEMIO_ERL                891221 non-null int64\n",
      "SEMIO_KULT               891221 non-null int64\n",
      "SEMIO_RAT                891221 non-null int64\n",
      "SEMIO_KRIT               891221 non-null int64\n",
      "SEMIO_DOM                891221 non-null int64\n",
      "SEMIO_KAEM               891221 non-null int64\n",
      "SEMIO_PFLICHT            891221 non-null int64\n",
      "SEMIO_TRADV              891221 non-null int64\n",
      "SHOPPER_TYP              891221 non-null int64\n",
      "SOHO_KZ                  817722 non-null float64\n",
      "TITEL_KZ                 817722 non-null float64\n",
      "VERS_TYP                 891221 non-null int64\n",
      "ZABEOTYP                 891221 non-null int64\n",
      "ALTER_HH                 817722 non-null float64\n",
      "ANZ_PERSONEN             817722 non-null float64\n",
      "ANZ_TITEL                817722 non-null float64\n",
      "HH_EINKOMMEN_SCORE       872873 non-null float64\n",
      "KK_KUNDENTYP             306609 non-null float64\n",
      "W_KEIT_KIND_HH           783619 non-null float64\n",
      "WOHNDAUER_2008           817722 non-null float64\n",
      "ANZ_HAUSHALTE_AKTIV      798073 non-null float64\n",
      "ANZ_HH_TITEL             794213 non-null float64\n",
      "GEBAEUDETYP              798073 non-null float64\n",
      "KONSUMNAEHE              817252 non-null float64\n",
      "MIN_GEBAEUDEJAHR         798073 non-null float64\n",
      "OST_WEST_KZ              798073 non-null object\n",
      "WOHNLAGE                 798073 non-null float64\n",
      "CAMEO_DEUG_2015          792242 non-null object\n",
      "CAMEO_DEU_2015           792242 non-null object\n",
      "CAMEO_INTL_2015          792242 non-null object\n",
      "KBA05_ANTG1              757897 non-null float64\n",
      "KBA05_ANTG2              757897 non-null float64\n",
      "KBA05_ANTG3              757897 non-null float64\n",
      "KBA05_ANTG4              757897 non-null float64\n",
      "KBA05_BAUMAX             757897 non-null float64\n",
      "KBA05_GBZ                757897 non-null float64\n",
      "BALLRAUM                 797481 non-null float64\n",
      "EWDICHTE                 797481 non-null float64\n",
      "INNENSTADT               797481 non-null float64\n",
      "GEBAEUDETYP_RASTER       798066 non-null float64\n",
      "KKK                      770025 non-null float64\n",
      "MOBI_REGIO               757897 non-null float64\n",
      "ONLINE_AFFINITAET        886367 non-null float64\n",
      "REGIOTYP                 770025 non-null float64\n",
      "KBA13_ANZAHL_PKW         785421 non-null float64\n",
      "PLZ8_ANTG1               774706 non-null float64\n",
      "PLZ8_ANTG2               774706 non-null float64\n",
      "PLZ8_ANTG3               774706 non-null float64\n",
      "PLZ8_ANTG4               774706 non-null float64\n",
      "PLZ8_BAUMAX              774706 non-null float64\n",
      "PLZ8_HHZ                 774706 non-null float64\n",
      "PLZ8_GBZ                 774706 non-null float64\n",
      "ARBEIT                   794005 non-null float64\n",
      "ORTSGR_KLS9              794005 non-null float64\n",
      "RELAT_AB                 794005 non-null float64\n",
      "dtypes: float64(49), int64(32), object(4)\n",
      "memory usage: 578.0+ MB\n",
      "None\n"
     ]
    }
   ],
   "source": [
    "print(azdias.info())"
   ]
  },
  {
   "cell_type": "code",
   "execution_count": 4,
   "metadata": {},
   "outputs": [
    {
     "name": "stdout",
     "output_type": "stream",
     "text": [
      "   AGER_TYP  ALTERSKATEGORIE_GROB  ANREDE_KZ  CJT_GESAMTTYP  \\\n",
      "0        -1                     2          1            2.0   \n",
      "1        -1                     1          2            5.0   \n",
      "2        -1                     3          2            3.0   \n",
      "3         2                     4          2            2.0   \n",
      "4        -1                     3          1            5.0   \n",
      "5         3                     1          2            2.0   \n",
      "6        -1                     2          2            5.0   \n",
      "7        -1                     1          1            3.0   \n",
      "8        -1                     3          1            3.0   \n",
      "9        -1                     3          2            4.0   \n",
      "\n",
      "   FINANZ_MINIMALIST  FINANZ_SPARER  FINANZ_VORSORGER  FINANZ_ANLEGER  \\\n",
      "0                  3              4                 3               5   \n",
      "1                  1              5                 2               5   \n",
      "2                  1              4                 1               2   \n",
      "3                  4              2                 5               2   \n",
      "4                  4              3                 4               1   \n",
      "5                  3              1                 5               2   \n",
      "6                  1              5                 1               5   \n",
      "7                  3              3                 4               1   \n",
      "8                  4              4                 2               4   \n",
      "9                  2              4                 2               3   \n",
      "\n",
      "   FINANZ_UNAUFFAELLIGER  FINANZ_HAUSBAUER    ...     PLZ8_ANTG1  PLZ8_ANTG2  \\\n",
      "0                      5                 3    ...            NaN         NaN   \n",
      "1                      4                 5    ...            2.0         3.0   \n",
      "2                      3                 5    ...            3.0         3.0   \n",
      "3                      1                 2    ...            2.0         2.0   \n",
      "4                      3                 2    ...            2.0         4.0   \n",
      "5                      2                 5    ...            2.0         3.0   \n",
      "6                      4                 3    ...            3.0         3.0   \n",
      "7                      3                 2    ...            3.0         3.0   \n",
      "8                      2                 2    ...            2.0         3.0   \n",
      "9                      5                 4    ...            2.0         3.0   \n",
      "\n",
      "   PLZ8_ANTG3  PLZ8_ANTG4  PLZ8_BAUMAX  PLZ8_HHZ  PLZ8_GBZ  ARBEIT  \\\n",
      "0         NaN         NaN          NaN       NaN       NaN     NaN   \n",
      "1         2.0         1.0          1.0       5.0       4.0     3.0   \n",
      "2         1.0         0.0          1.0       4.0       4.0     3.0   \n",
      "3         2.0         0.0          1.0       3.0       4.0     2.0   \n",
      "4         2.0         1.0          2.0       3.0       3.0     4.0   \n",
      "5         1.0         1.0          1.0       5.0       5.0     2.0   \n",
      "6         1.0         0.0          1.0       5.0       5.0     4.0   \n",
      "7         1.0         0.0          1.0       4.0       4.0     2.0   \n",
      "8         2.0         1.0          1.0       3.0       3.0     2.0   \n",
      "9         2.0         1.0          1.0       3.0       3.0     2.0   \n",
      "\n",
      "   ORTSGR_KLS9  RELAT_AB  \n",
      "0          NaN       NaN  \n",
      "1          5.0       4.0  \n",
      "2          5.0       2.0  \n",
      "3          3.0       3.0  \n",
      "4          6.0       5.0  \n",
      "5          3.0       3.0  \n",
      "6          6.0       3.0  \n",
      "7          5.0       2.0  \n",
      "8          4.0       3.0  \n",
      "9          3.0       1.0  \n",
      "\n",
      "[10 rows x 85 columns]\n"
     ]
    }
   ],
   "source": [
    "print(azdias.head(10))"
   ]
  },
  {
   "cell_type": "code",
   "execution_count": 6,
   "metadata": {},
   "outputs": [
    {
     "name": "stdout",
     "output_type": "stream",
     "text": [
      "<class 'pandas.core.frame.DataFrame'>\n",
      "RangeIndex: 85 entries, 0 to 84\n",
      "Data columns (total 4 columns):\n",
      "attribute             85 non-null object\n",
      "information_level     85 non-null object\n",
      "type                  85 non-null object\n",
      "missing_or_unknown    85 non-null object\n",
      "dtypes: object(4)\n",
      "memory usage: 2.7+ KB\n",
      "None\n"
     ]
    }
   ],
   "source": [
    "print(feat_info.info())"
   ]
  },
  {
   "cell_type": "code",
   "execution_count": 7,
   "metadata": {},
   "outputs": [
    {
     "name": "stdout",
     "output_type": "stream",
     "text": [
      "                attribute information_level         type missing_or_unknown\n",
      "0                AGER_TYP            person  categorical             [-1,0]\n",
      "1    ALTERSKATEGORIE_GROB            person      ordinal           [-1,0,9]\n",
      "2               ANREDE_KZ            person  categorical             [-1,0]\n",
      "3           CJT_GESAMTTYP            person  categorical                [0]\n",
      "4       FINANZ_MINIMALIST            person      ordinal               [-1]\n",
      "5           FINANZ_SPARER            person      ordinal               [-1]\n",
      "6        FINANZ_VORSORGER            person      ordinal               [-1]\n",
      "7          FINANZ_ANLEGER            person      ordinal               [-1]\n",
      "8   FINANZ_UNAUFFAELLIGER            person      ordinal               [-1]\n",
      "9        FINANZ_HAUSBAUER            person      ordinal               [-1]\n",
      "10              FINANZTYP            person  categorical               [-1]\n",
      "11            GEBURTSJAHR            person      numeric                [0]\n",
      "12        GFK_URLAUBERTYP            person  categorical                 []\n",
      "13       GREEN_AVANTGARDE            person  categorical                 []\n",
      "14             HEALTH_TYP            person      ordinal             [-1,0]\n",
      "15    LP_LEBENSPHASE_FEIN            person        mixed                [0]\n",
      "16    LP_LEBENSPHASE_GROB            person        mixed                [0]\n",
      "17        LP_FAMILIE_FEIN            person  categorical                [0]\n",
      "18        LP_FAMILIE_GROB            person  categorical                [0]\n",
      "19         LP_STATUS_FEIN            person  categorical                [0]\n",
      "20         LP_STATUS_GROB            person  categorical                [0]\n",
      "21       NATIONALITAET_KZ            person  categorical             [-1,0]\n",
      "22  PRAEGENDE_JUGENDJAHRE            person        mixed             [-1,0]\n",
      "23         RETOURTYP_BK_S            person      ordinal                [0]\n",
      "24              SEMIO_SOZ            person      ordinal             [-1,9]\n",
      "25              SEMIO_FAM            person      ordinal             [-1,9]\n",
      "26              SEMIO_REL            person      ordinal             [-1,9]\n",
      "27              SEMIO_MAT            person      ordinal             [-1,9]\n",
      "28             SEMIO_VERT            person      ordinal             [-1,9]\n",
      "29             SEMIO_LUST            person      ordinal             [-1,9]\n",
      "..                    ...               ...          ...                ...\n",
      "55            OST_WEST_KZ          building  categorical               [-1]\n",
      "56               WOHNLAGE          building        mixed               [-1]\n",
      "57        CAMEO_DEUG_2015     microcell_rr4  categorical             [-1,X]\n",
      "58         CAMEO_DEU_2015     microcell_rr4  categorical               [XX]\n",
      "59        CAMEO_INTL_2015     microcell_rr4        mixed            [-1,XX]\n",
      "60            KBA05_ANTG1     microcell_rr3      ordinal               [-1]\n",
      "61            KBA05_ANTG2     microcell_rr3      ordinal               [-1]\n",
      "62            KBA05_ANTG3     microcell_rr3      ordinal               [-1]\n",
      "63            KBA05_ANTG4     microcell_rr3      ordinal               [-1]\n",
      "64           KBA05_BAUMAX     microcell_rr3        mixed             [-1,0]\n",
      "65              KBA05_GBZ     microcell_rr3      ordinal             [-1,0]\n",
      "66               BALLRAUM          postcode      ordinal               [-1]\n",
      "67               EWDICHTE          postcode      ordinal               [-1]\n",
      "68             INNENSTADT          postcode      ordinal               [-1]\n",
      "69     GEBAEUDETYP_RASTER        region_rr1      ordinal                 []\n",
      "70                    KKK        region_rr1      ordinal             [-1,0]\n",
      "71             MOBI_REGIO        region_rr1      ordinal                 []\n",
      "72      ONLINE_AFFINITAET        region_rr1      ordinal                 []\n",
      "73               REGIOTYP        region_rr1      ordinal             [-1,0]\n",
      "74       KBA13_ANZAHL_PKW    macrocell_plz8      numeric                 []\n",
      "75             PLZ8_ANTG1    macrocell_plz8      ordinal               [-1]\n",
      "76             PLZ8_ANTG2    macrocell_plz8      ordinal               [-1]\n",
      "77             PLZ8_ANTG3    macrocell_plz8      ordinal               [-1]\n",
      "78             PLZ8_ANTG4    macrocell_plz8      ordinal               [-1]\n",
      "79            PLZ8_BAUMAX    macrocell_plz8        mixed             [-1,0]\n",
      "80               PLZ8_HHZ    macrocell_plz8      ordinal               [-1]\n",
      "81               PLZ8_GBZ    macrocell_plz8      ordinal               [-1]\n",
      "82                 ARBEIT         community      ordinal             [-1,9]\n",
      "83            ORTSGR_KLS9         community      ordinal             [-1,0]\n",
      "84               RELAT_AB         community      ordinal             [-1,9]\n",
      "\n",
      "[85 rows x 4 columns]\n"
     ]
    }
   ],
   "source": [
    "print(feat_info)"
   ]
  },
  {
   "cell_type": "markdown",
   "metadata": {},
   "source": [
    "## Step 1: Preprocessing\n",
    "\n",
    "### Step 1.1: Assess Missing Data\n",
    "\n",
    "#### Step 1.1.1: Convert Missing Value Codes to NaNs\n"
   ]
  },
  {
   "cell_type": "code",
   "execution_count": 9,
   "metadata": {},
   "outputs": [],
   "source": [
    "for i in range(len(feat_info)):\n",
    "    l = feat_info.iloc[i,3].strip('][').split(',')\n",
    "    if l[0] != '':\n",
    "        for j in range(len(l)):\n",
    "            try:\n",
    "                l[j] = int(l[j])\n",
    "            except:\n",
    "                pass \n",
    "        azdias.iloc[:,i] = azdias.iloc[:,i].replace(l, np.nan)\n",
    "    "
   ]
  },
  {
   "cell_type": "markdown",
   "metadata": {},
   "source": [
    "#### Step 1.1.2: Assess Missing Data in Each Column\n"
   ]
  },
  {
   "cell_type": "code",
   "execution_count": 10,
   "metadata": {},
   "outputs": [
    {
     "data": {
      "text/plain": [
       "(array([ 31.,   1.,   0.,   0.,   0.,   0.,   0.,   7.,   8.,  10.,   6.,\n",
       "          7.,   6.,   0.,   1.,   2.,   0.,   0.,   0.,   0.,   0.,   0.,\n",
       "          0.,   0.,   0.,   0.,   0.,   0.,   0.,   1.,   0.,   0.,   0.,\n",
       "          0.,   0.,   0.,   0.,   1.,   0.,   0.,   0.,   0.,   0.,   0.,\n",
       "          0.,   1.,   0.,   0.,   0.,   0.,   0.,   0.,   0.,   0.,   0.,\n",
       "          1.,   0.,   0.,   0.,   0.,   0.,   0.,   0.,   0.,   0.,   1.,\n",
       "          0.,   0.,   0.,   0.,   0.,   0.,   0.,   0.,   0.,   0.,   0.,\n",
       "          0.,   0.,   0.,   0.,   0.,   0.,   0.,   1.]),\n",
       " array([      0.        ,   10459.54117647,   20919.08235294,\n",
       "          31378.62352941,   41838.16470588,   52297.70588235,\n",
       "          62757.24705882,   73216.78823529,   83676.32941176,\n",
       "          94135.87058824,  104595.41176471,  115054.95294118,\n",
       "         125514.49411765,  135974.03529412,  146433.57647059,\n",
       "         156893.11764706,  167352.65882353,  177812.2       ,\n",
       "         188271.74117647,  198731.28235294,  209190.82352941,\n",
       "         219650.36470588,  230109.90588235,  240569.44705882,\n",
       "         251028.98823529,  261488.52941176,  271948.07058824,\n",
       "         282407.61176471,  292867.15294118,  303326.69411765,\n",
       "         313786.23529412,  324245.77647059,  334705.31764706,\n",
       "         345164.85882353,  355624.4       ,  366083.94117647,\n",
       "         376543.48235294,  387003.02352941,  397462.56470588,\n",
       "         407922.10588235,  418381.64705882,  428841.18823529,\n",
       "         439300.72941176,  449760.27058824,  460219.81176471,\n",
       "         470679.35294118,  481138.89411765,  491598.43529412,\n",
       "         502057.97647059,  512517.51764706,  522977.05882353,\n",
       "         533436.6       ,  543896.14117647,  554355.68235294,\n",
       "         564815.22352941,  575274.76470588,  585734.30588235,\n",
       "         596193.84705882,  606653.38823529,  617112.92941176,\n",
       "         627572.47058824,  638032.01176471,  648491.55294118,\n",
       "         658951.09411765,  669410.63529412,  679870.17647059,\n",
       "         690329.71764706,  700789.25882353,  711248.8       ,\n",
       "         721708.34117647,  732167.88235294,  742627.42352941,\n",
       "         753086.96470588,  763546.50588235,  774006.04705882,\n",
       "         784465.58823529,  794925.12941176,  805384.67058824,\n",
       "         815844.21176471,  826303.75294118,  836763.29411765,\n",
       "         847222.83529412,  857682.37647059,  868141.91764706,\n",
       "         878601.45882353,  889061.        ]),\n",
       " <a list of 85 Patch objects>)"
      ]
     },
     "execution_count": 10,
     "metadata": {},
     "output_type": "execute_result"
    },
    {
     "data": {
      "image/png": "[encoded data removed]",
      "text/plain": [
       "<matplotlib.figure.Figure at 0x7fa329ea4f98>"
      ]
     },
     "metadata": {
      "needs_background": "light"
     },
     "output_type": "display_data"
    }
   ],
   "source": [
    "missing_data = azdias.isna().sum(axis=0)\n",
    "plt.hist(missing_data.values, bins = 85)"
   ]
  },
  {
   "cell_type": "code",
   "execution_count": 11,
   "metadata": {},
   "outputs": [
    {
     "name": "stdout",
     "output_type": "stream",
     "text": [
      "['AGER_TYP', 'GEBURTSJAHR', 'TITEL_KZ', 'ALTER_HH', 'KK_KUNDENTYP', 'KBA05_BAUMAX']\n"
     ]
    }
   ],
   "source": [
    "outlier_indices = np.nonzero(missing_data.values > 250000)[0].tolist()\n",
    "outlier_cols = missing_data.index[outlier_indices].tolist()\n",
    "print(outlier_cols)"
   ]
  },
  {
   "cell_type": "code",
   "execution_count": 12,
   "metadata": {},
   "outputs": [
    {
     "data": {
      "text/html": [
       "<div>\n",
       "<style scoped>\n",
       "    .dataframe tbody tr th:only-of-type {\n",
       "        vertical-align: middle;\n",
       "    }\n",
       "\n",
       "    .dataframe tbody tr th {\n",
       "        vertical-align: top;\n",
       "    }\n",
       "\n",
       "    .dataframe thead th {\n",
       "        text-align: right;\n",
       "    }\n",
       "</style>\n",
       "<table border=\"1\" class=\"dataframe\">\n",
       "  <thead>\n",
       "    <tr style=\"text-align: right;\">\n",
       "      <th></th>\n",
       "      <th>ALTERSKATEGORIE_GROB</th>\n",
       "      <th>ANREDE_KZ</th>\n",
       "      <th>CJT_GESAMTTYP</th>\n",
       "      <th>FINANZ_MINIMALIST</th>\n",
       "      <th>FINANZ_SPARER</th>\n",
       "      <th>FINANZ_VORSORGER</th>\n",
       "      <th>FINANZ_ANLEGER</th>\n",
       "      <th>FINANZ_UNAUFFAELLIGER</th>\n",
       "      <th>FINANZ_HAUSBAUER</th>\n",
       "      <th>FINANZTYP</th>\n",
       "      <th>...</th>\n",
       "      <th>PLZ8_ANTG1</th>\n",
       "      <th>PLZ8_ANTG2</th>\n",
       "      <th>PLZ8_ANTG3</th>\n",
       "      <th>PLZ8_ANTG4</th>\n",
       "      <th>PLZ8_BAUMAX</th>\n",
       "      <th>PLZ8_HHZ</th>\n",
       "      <th>PLZ8_GBZ</th>\n",
       "      <th>ARBEIT</th>\n",
       "      <th>ORTSGR_KLS9</th>\n",
       "      <th>RELAT_AB</th>\n",
       "    </tr>\n",
       "  </thead>\n",
       "  <tbody>\n",
       "    <tr>\n",
       "      <th>0</th>\n",
       "      <td>2.0</td>\n",
       "      <td>1</td>\n",
       "      <td>2.0</td>\n",
       "      <td>3</td>\n",
       "      <td>4</td>\n",
       "      <td>3</td>\n",
       "      <td>5</td>\n",
       "      <td>5</td>\n",
       "      <td>3</td>\n",
       "      <td>4</td>\n",
       "      <td>...</td>\n",
       "      <td>NaN</td>\n",
       "      <td>NaN</td>\n",
       "      <td>NaN</td>\n",
       "      <td>NaN</td>\n",
       "      <td>NaN</td>\n",
       "      <td>NaN</td>\n",
       "      <td>NaN</td>\n",
       "      <td>NaN</td>\n",
       "      <td>NaN</td>\n",
       "      <td>NaN</td>\n",
       "    </tr>\n",
       "    <tr>\n",
       "      <th>1</th>\n",
       "      <td>1.0</td>\n",
       "      <td>2</td>\n",
       "      <td>5.0</td>\n",
       "      <td>1</td>\n",
       "      <td>5</td>\n",
       "      <td>2</td>\n",
       "      <td>5</td>\n",
       "      <td>4</td>\n",
       "      <td>5</td>\n",
       "      <td>1</td>\n",
       "      <td>...</td>\n",
       "      <td>2.0</td>\n",
       "      <td>3.0</td>\n",
       "      <td>2.0</td>\n",
       "      <td>1.0</td>\n",
       "      <td>1.0</td>\n",
       "      <td>5.0</td>\n",
       "      <td>4.0</td>\n",
       "      <td>3.0</td>\n",
       "      <td>5.0</td>\n",
       "      <td>4.0</td>\n",
       "    </tr>\n",
       "    <tr>\n",
       "      <th>2</th>\n",
       "      <td>3.0</td>\n",
       "      <td>2</td>\n",
       "      <td>3.0</td>\n",
       "      <td>1</td>\n",
       "      <td>4</td>\n",
       "      <td>1</td>\n",
       "      <td>2</td>\n",
       "      <td>3</td>\n",
       "      <td>5</td>\n",
       "      <td>1</td>\n",
       "      <td>...</td>\n",
       "      <td>3.0</td>\n",
       "      <td>3.0</td>\n",
       "      <td>1.0</td>\n",
       "      <td>0.0</td>\n",
       "      <td>1.0</td>\n",
       "      <td>4.0</td>\n",
       "      <td>4.0</td>\n",
       "      <td>3.0</td>\n",
       "      <td>5.0</td>\n",
       "      <td>2.0</td>\n",
       "    </tr>\n",
       "    <tr>\n",
       "      <th>3</th>\n",
       "      <td>4.0</td>\n",
       "      <td>2</td>\n",
       "      <td>2.0</td>\n",
       "      <td>4</td>\n",
       "      <td>2</td>\n",
       "      <td>5</td>\n",
       "      <td>2</td>\n",
       "      <td>1</td>\n",
       "      <td>2</td>\n",
       "      <td>6</td>\n",
       "      <td>...</td>\n",
       "      <td>2.0</td>\n",
       "      <td>2.0</td>\n",
       "      <td>2.0</td>\n",
       "      <td>0.0</td>\n",
       "      <td>1.0</td>\n",
       "      <td>3.0</td>\n",
       "      <td>4.0</td>\n",
       "      <td>2.0</td>\n",
       "      <td>3.0</td>\n",
       "      <td>3.0</td>\n",
       "    </tr>\n",
       "    <tr>\n",
       "      <th>4</th>\n",
       "      <td>3.0</td>\n",
       "      <td>1</td>\n",
       "      <td>5.0</td>\n",
       "      <td>4</td>\n",
       "      <td>3</td>\n",
       "      <td>4</td>\n",
       "      <td>1</td>\n",
       "      <td>3</td>\n",
       "      <td>2</td>\n",
       "      <td>5</td>\n",
       "      <td>...</td>\n",
       "      <td>2.0</td>\n",
       "      <td>4.0</td>\n",
       "      <td>2.0</td>\n",
       "      <td>1.0</td>\n",
       "      <td>2.0</td>\n",
       "      <td>3.0</td>\n",
       "      <td>3.0</td>\n",
       "      <td>4.0</td>\n",
       "      <td>6.0</td>\n",
       "      <td>5.0</td>\n",
       "    </tr>\n",
       "  </tbody>\n",
       "</table>\n",
       "<p>5 rows × 79 columns</p>\n",
       "</div>"
      ],
      "text/plain": [
       "   ALTERSKATEGORIE_GROB  ANREDE_KZ  CJT_GESAMTTYP  FINANZ_MINIMALIST  \\\n",
       "0                   2.0          1            2.0                  3   \n",
       "1                   1.0          2            5.0                  1   \n",
       "2                   3.0          2            3.0                  1   \n",
       "3                   4.0          2            2.0                  4   \n",
       "4                   3.0          1            5.0                  4   \n",
       "\n",
       "   FINANZ_SPARER  FINANZ_VORSORGER  FINANZ_ANLEGER  FINANZ_UNAUFFAELLIGER  \\\n",
       "0              4                 3               5                      5   \n",
       "1              5                 2               5                      4   \n",
       "2              4                 1               2                      3   \n",
       "3              2                 5               2                      1   \n",
       "4              3                 4               1                      3   \n",
       "\n",
       "   FINANZ_HAUSBAUER  FINANZTYP    ...     PLZ8_ANTG1  PLZ8_ANTG2  PLZ8_ANTG3  \\\n",
       "0                 3          4    ...            NaN         NaN         NaN   \n",
       "1                 5          1    ...            2.0         3.0         2.0   \n",
       "2                 5          1    ...            3.0         3.0         1.0   \n",
       "3                 2          6    ...            2.0         2.0         2.0   \n",
       "4                 2          5    ...            2.0         4.0         2.0   \n",
       "\n",
       "   PLZ8_ANTG4  PLZ8_BAUMAX  PLZ8_HHZ  PLZ8_GBZ  ARBEIT  ORTSGR_KLS9  RELAT_AB  \n",
       "0         NaN          NaN       NaN       NaN     NaN          NaN       NaN  \n",
       "1         1.0          1.0       5.0       4.0     3.0          5.0       4.0  \n",
       "2         0.0          1.0       4.0       4.0     3.0          5.0       2.0  \n",
       "3         0.0          1.0       3.0       4.0     2.0          3.0       3.0  \n",
       "4         1.0          2.0       3.0       3.0     4.0          6.0       5.0  \n",
       "\n",
       "[5 rows x 79 columns]"
      ]
     },
     "execution_count": 12,
     "metadata": {},
     "output_type": "execute_result"
    }
   ],
   "source": [
    "azdias = azdias.drop(outlier_cols, axis=1)\n",
    "azdias.head()"
   ]
  },
  {
   "cell_type": "markdown",
   "metadata": {},
   "source": [
    "#### Discussion 1.1.2: Assess Missing Data in Each Column\n",
    "\n",
    "The single largest value of missing data that most columns shared was pretty close to zero. There is also a significant amount of columns that have missing values that range from around 100,000 to 180,000 and very few that had more missing values than 200,000, six to be precise. ['AGER_TYP', 'GEBURTSJAHR', 'TITEL_KZ', 'ALTER_HH', 'KK_KUNDENTYP', 'KBA05_BAUMAX'] So I had those columns removed from the dataset. "
   ]
  },
  {
   "cell_type": "markdown",
   "metadata": {},
   "source": [
    "#### Step 1.1.3: Assess Missing Data in Each Row\n"
   ]
  },
  {
   "cell_type": "code",
   "execution_count": 13,
   "metadata": {},
   "outputs": [
    {
     "data": {
      "text/plain": [
       "(array([  6.97109000e+05,   7.76340000e+04,   1.28010000e+04,\n",
       "          9.53300000e+03,   8.29000000e+02,   1.55000000e+02,\n",
       "          1.40160000e+04,   5.03100000e+03,   2.80380000e+04,\n",
       "          4.60750000e+04]),\n",
       " array([  0. ,   4.9,   9.8,  14.7,  19.6,  24.5,  29.4,  34.3,  39.2,\n",
       "         44.1,  49. ]),\n",
       " <a list of 10 Patch objects>)"
      ]
     },
     "execution_count": 13,
     "metadata": {},
     "output_type": "execute_result"
    },
    {
     "data": {
      "image/png": "[encoded data removed]",
      "text/plain": [
       "<matplotlib.figure.Figure at 0x7fa327db7cc0>"
      ]
     },
     "metadata": {
      "needs_background": "light"
     },
     "output_type": "display_data"
    }
   ],
   "source": [
    "missing_data_rows = azdias.isna().sum(axis=1)\n",
    "plt.hist(missing_data_rows.values)"
   ]
  },
  {
   "cell_type": "code",
   "execution_count": 14,
   "metadata": {},
   "outputs": [],
   "source": [
    "rows_nan_less_than_10 = np.nonzero(missing_data_rows.values <= 10)[0].tolist()\n",
    "rows_nan_more_than_10 = np.nonzero(missing_data_rows.values > 10)[0].tolist()"
   ]
  },
  {
   "cell_type": "code",
   "execution_count": 15,
   "metadata": {},
   "outputs": [],
   "source": [
    "def compare_dist(col):\n",
    "    f, axes = plt.subplots(1, 2, figsize=(5, 5))\n",
    "    print(axes)\n",
    "    sns.countplot(x = col, data=azdias.iloc[rows_nan_less_than_10], ax=axes[0])\n",
    "    sns.countplot(x = col, data=azdias.iloc[rows_nan_more_than_10], ax=axes[1])\n",
    "    plt.tight_layout()\n"
   ]
  },
  {
   "cell_type": "code",
   "execution_count": 16,
   "metadata": {},
   "outputs": [
    {
     "name": "stdout",
     "output_type": "stream",
     "text": [
      "[<matplotlib.axes._subplots.AxesSubplot object at 0x7fa312200e80>\n",
      " <matplotlib.axes._subplots.AxesSubplot object at 0x7fa31058f828>]\n"
     ]
    },
    {
     "data": {
      "image/png": "[encoded data removed]",
      "text/plain": [
       "<matplotlib.figure.Figure at 0x7fa3121d4c50>"
      ]
     },
     "metadata": {
      "needs_background": "light"
     },
     "output_type": "display_data"
    }
   ],
   "source": [
    "compare_dist('CJT_GESAMTTYP')"
   ]
  },
  {
   "cell_type": "code",
   "execution_count": 17,
   "metadata": {},
   "outputs": [
    {
     "name": "stdout",
     "output_type": "stream",
     "text": [
      "[<matplotlib.axes._subplots.AxesSubplot object at 0x7fa31059a978>\n",
      " <matplotlib.axes._subplots.AxesSubplot object at 0x7fa3104dcf98>]\n"
     ]
    },
    {
     "data": {
      "image/png": "[encoded data removed]",
      "text/plain": [
       "<matplotlib.figure.Figure at 0x7fa3105120f0>"
      ]
     },
     "metadata": {
      "needs_background": "light"
     },
     "output_type": "display_data"
    }
   ],
   "source": [
    "compare_dist('LP_FAMILIE_GROB')"
   ]
  },
  {
   "cell_type": "code",
   "execution_count": 18,
   "metadata": {},
   "outputs": [
    {
     "name": "stdout",
     "output_type": "stream",
     "text": [
      "[<matplotlib.axes._subplots.AxesSubplot object at 0x7fa310549ac8>\n",
      " <matplotlib.axes._subplots.AxesSubplot object at 0x7fa310420fd0>]\n"
     ]
    },
    {
     "data": {
      "image/png": "[encoded data removed]",
      "text/plain": [
       "<matplotlib.figure.Figure at 0x7fa310503cf8>"
      ]
     },
     "metadata": {
      "needs_background": "light"
     },
     "output_type": "display_data"
    }
   ],
   "source": [
    "compare_dist('PRAEGENDE_JUGENDJAHRE')"
   ]
  },
  {
   "cell_type": "code",
   "execution_count": 19,
   "metadata": {},
   "outputs": [
    {
     "name": "stdout",
     "output_type": "stream",
     "text": [
      "[<matplotlib.axes._subplots.AxesSubplot object at 0x7fa2fd40fe10>\n",
      " <matplotlib.axes._subplots.AxesSubplot object at 0x7fa31030de10>]\n"
     ]
    },
    {
     "data": {
      "image/png": "[encoded data removed]",
      "text/plain": [
       "<matplotlib.figure.Figure at 0x7fa31045f208>"
      ]
     },
     "metadata": {
      "needs_background": "light"
     },
     "output_type": "display_data"
    }
   ],
   "source": [
    "compare_dist('SEMIO_MAT')"
   ]
  },
  {
   "cell_type": "code",
   "execution_count": 20,
   "metadata": {},
   "outputs": [
    {
     "name": "stdout",
     "output_type": "stream",
     "text": [
      "[<matplotlib.axes._subplots.AxesSubplot object at 0x7fa2fd40fdd8>\n",
      " <matplotlib.axes._subplots.AxesSubplot object at 0x7fa31026bc18>]\n"
     ]
    },
    {
     "data": {
      "image/png": "[encoded data removed]",
      "text/plain": [
       "<matplotlib.figure.Figure at 0x7fa31032bb38>"
      ]
     },
     "metadata": {
      "needs_background": "light"
     },
     "output_type": "display_data"
    }
   ],
   "source": [
    "compare_dist('CAMEO_DEU_2015')"
   ]
  },
  {
   "cell_type": "markdown",
   "metadata": {},
   "source": [
    "#### Discussion 1.1.3: Assess Missing Data in Each Row\n",
    "\n",
    "Based on the historgram, it looks like the majority of the data points have fewer than 10 missing values, so I split the data based on whether they had less than 10 missing values or had more than 10 missing values. I plotted the distribution of the two splits for a couple different columns to compare the distributions between rows that had less than 10 missing values and rows that had more than 10 missing values. From the plots above, we can see that for most of the columns, the rows that had more than 10 missing values resulted in a distribution quite different from the rows that had less than 10 missing values."
   ]
  },
  {
   "cell_type": "markdown",
   "metadata": {},
   "source": [
    "### Step 1.2: Select and Re-Encode Features\n"
   ]
  },
  {
   "cell_type": "code",
   "execution_count": 21,
   "metadata": {},
   "outputs": [
    {
     "name": "stdout",
     "output_type": "stream",
     "text": [
      "n_mixed: 7\n",
      "n_cat: 21\n",
      "n_ordinal: 49\n",
      "n_num: 7\n",
      "n_interval: 1\n"
     ]
    }
   ],
   "source": [
    "n_mixed = np.sum(feat_info['type'] == 'mixed')\n",
    "n_cat = np.sum(feat_info['type'] == 'categorical')\n",
    "n_ordinal = np.sum(feat_info['type'] == 'ordinal')\n",
    "n_num = np.sum(feat_info['type'] == 'numeric')\n",
    "n_interval = np.sum(feat_info['type'] == 'interval')\n",
    "print(\"n_mixed:\", n_mixed)\n",
    "print(\"n_cat:\", n_cat)\n",
    "print(\"n_ordinal:\", n_ordinal)\n",
    "print(\"n_num:\", n_num)\n",
    "print(\"n_interval:\", n_interval)"
   ]
  },
  {
   "cell_type": "markdown",
   "metadata": {},
   "source": [
    "#### Step 1.2.1: Re-Encode Categorical Features\n"
   ]
  },
  {
   "cell_type": "code",
   "execution_count": 22,
   "metadata": {},
   "outputs": [
    {
     "data": {
      "text/html": [
       "<div>\n",
       "<style scoped>\n",
       "    .dataframe tbody tr th:only-of-type {\n",
       "        vertical-align: middle;\n",
       "    }\n",
       "\n",
       "    .dataframe tbody tr th {\n",
       "        vertical-align: top;\n",
       "    }\n",
       "\n",
       "    .dataframe thead th {\n",
       "        text-align: right;\n",
       "    }\n",
       "</style>\n",
       "<table border=\"1\" class=\"dataframe\">\n",
       "  <thead>\n",
       "    <tr style=\"text-align: right;\">\n",
       "      <th></th>\n",
       "      <th>attribute</th>\n",
       "      <th>information_level</th>\n",
       "      <th>type</th>\n",
       "      <th>missing_or_unknown</th>\n",
       "    </tr>\n",
       "  </thead>\n",
       "  <tbody>\n",
       "    <tr>\n",
       "      <th>0</th>\n",
       "      <td>AGER_TYP</td>\n",
       "      <td>person</td>\n",
       "      <td>categorical</td>\n",
       "      <td>[-1,0]</td>\n",
       "    </tr>\n",
       "    <tr>\n",
       "      <th>2</th>\n",
       "      <td>ANREDE_KZ</td>\n",
       "      <td>person</td>\n",
       "      <td>categorical</td>\n",
       "      <td>[-1,0]</td>\n",
       "    </tr>\n",
       "    <tr>\n",
       "      <th>3</th>\n",
       "      <td>CJT_GESAMTTYP</td>\n",
       "      <td>person</td>\n",
       "      <td>categorical</td>\n",
       "      <td>[0]</td>\n",
       "    </tr>\n",
       "    <tr>\n",
       "      <th>10</th>\n",
       "      <td>FINANZTYP</td>\n",
       "      <td>person</td>\n",
       "      <td>categorical</td>\n",
       "      <td>[-1]</td>\n",
       "    </tr>\n",
       "    <tr>\n",
       "      <th>12</th>\n",
       "      <td>GFK_URLAUBERTYP</td>\n",
       "      <td>person</td>\n",
       "      <td>categorical</td>\n",
       "      <td>[]</td>\n",
       "    </tr>\n",
       "    <tr>\n",
       "      <th>13</th>\n",
       "      <td>GREEN_AVANTGARDE</td>\n",
       "      <td>person</td>\n",
       "      <td>categorical</td>\n",
       "      <td>[]</td>\n",
       "    </tr>\n",
       "    <tr>\n",
       "      <th>17</th>\n",
       "      <td>LP_FAMILIE_FEIN</td>\n",
       "      <td>person</td>\n",
       "      <td>categorical</td>\n",
       "      <td>[0]</td>\n",
       "    </tr>\n",
       "    <tr>\n",
       "      <th>18</th>\n",
       "      <td>LP_FAMILIE_GROB</td>\n",
       "      <td>person</td>\n",
       "      <td>categorical</td>\n",
       "      <td>[0]</td>\n",
       "    </tr>\n",
       "    <tr>\n",
       "      <th>19</th>\n",
       "      <td>LP_STATUS_FEIN</td>\n",
       "      <td>person</td>\n",
       "      <td>categorical</td>\n",
       "      <td>[0]</td>\n",
       "    </tr>\n",
       "    <tr>\n",
       "      <th>20</th>\n",
       "      <td>LP_STATUS_GROB</td>\n",
       "      <td>person</td>\n",
       "      <td>categorical</td>\n",
       "      <td>[0]</td>\n",
       "    </tr>\n",
       "    <tr>\n",
       "      <th>21</th>\n",
       "      <td>NATIONALITAET_KZ</td>\n",
       "      <td>person</td>\n",
       "      <td>categorical</td>\n",
       "      <td>[-1,0]</td>\n",
       "    </tr>\n",
       "    <tr>\n",
       "      <th>38</th>\n",
       "      <td>SHOPPER_TYP</td>\n",
       "      <td>person</td>\n",
       "      <td>categorical</td>\n",
       "      <td>[-1]</td>\n",
       "    </tr>\n",
       "    <tr>\n",
       "      <th>39</th>\n",
       "      <td>SOHO_KZ</td>\n",
       "      <td>person</td>\n",
       "      <td>categorical</td>\n",
       "      <td>[-1]</td>\n",
       "    </tr>\n",
       "    <tr>\n",
       "      <th>40</th>\n",
       "      <td>TITEL_KZ</td>\n",
       "      <td>person</td>\n",
       "      <td>categorical</td>\n",
       "      <td>[-1,0]</td>\n",
       "    </tr>\n",
       "    <tr>\n",
       "      <th>41</th>\n",
       "      <td>VERS_TYP</td>\n",
       "      <td>person</td>\n",
       "      <td>categorical</td>\n",
       "      <td>[-1]</td>\n",
       "    </tr>\n",
       "    <tr>\n",
       "      <th>42</th>\n",
       "      <td>ZABEOTYP</td>\n",
       "      <td>person</td>\n",
       "      <td>categorical</td>\n",
       "      <td>[-1,9]</td>\n",
       "    </tr>\n",
       "    <tr>\n",
       "      <th>47</th>\n",
       "      <td>KK_KUNDENTYP</td>\n",
       "      <td>household</td>\n",
       "      <td>categorical</td>\n",
       "      <td>[-1]</td>\n",
       "    </tr>\n",
       "    <tr>\n",
       "      <th>52</th>\n",
       "      <td>GEBAEUDETYP</td>\n",
       "      <td>building</td>\n",
       "      <td>categorical</td>\n",
       "      <td>[-1,0]</td>\n",
       "    </tr>\n",
       "    <tr>\n",
       "      <th>55</th>\n",
       "      <td>OST_WEST_KZ</td>\n",
       "      <td>building</td>\n",
       "      <td>categorical</td>\n",
       "      <td>[-1]</td>\n",
       "    </tr>\n",
       "    <tr>\n",
       "      <th>57</th>\n",
       "      <td>CAMEO_DEUG_2015</td>\n",
       "      <td>microcell_rr4</td>\n",
       "      <td>categorical</td>\n",
       "      <td>[-1,X]</td>\n",
       "    </tr>\n",
       "    <tr>\n",
       "      <th>58</th>\n",
       "      <td>CAMEO_DEU_2015</td>\n",
       "      <td>microcell_rr4</td>\n",
       "      <td>categorical</td>\n",
       "      <td>[XX]</td>\n",
       "    </tr>\n",
       "  </tbody>\n",
       "</table>\n",
       "</div>"
      ],
      "text/plain": [
       "           attribute information_level         type missing_or_unknown\n",
       "0           AGER_TYP            person  categorical             [-1,0]\n",
       "2          ANREDE_KZ            person  categorical             [-1,0]\n",
       "3      CJT_GESAMTTYP            person  categorical                [0]\n",
       "10         FINANZTYP            person  categorical               [-1]\n",
       "12   GFK_URLAUBERTYP            person  categorical                 []\n",
       "13  GREEN_AVANTGARDE            person  categorical                 []\n",
       "17   LP_FAMILIE_FEIN            person  categorical                [0]\n",
       "18   LP_FAMILIE_GROB            person  categorical                [0]\n",
       "19    LP_STATUS_FEIN            person  categorical                [0]\n",
       "20    LP_STATUS_GROB            person  categorical                [0]\n",
       "21  NATIONALITAET_KZ            person  categorical             [-1,0]\n",
       "38       SHOPPER_TYP            person  categorical               [-1]\n",
       "39           SOHO_KZ            person  categorical               [-1]\n",
       "40          TITEL_KZ            person  categorical             [-1,0]\n",
       "41          VERS_TYP            person  categorical               [-1]\n",
       "42          ZABEOTYP            person  categorical             [-1,9]\n",
       "47      KK_KUNDENTYP         household  categorical               [-1]\n",
       "52       GEBAEUDETYP          building  categorical             [-1,0]\n",
       "55       OST_WEST_KZ          building  categorical               [-1]\n",
       "57   CAMEO_DEUG_2015     microcell_rr4  categorical             [-1,X]\n",
       "58    CAMEO_DEU_2015     microcell_rr4  categorical               [XX]"
      ]
     },
     "execution_count": 22,
     "metadata": {},
     "output_type": "execute_result"
    }
   ],
   "source": [
    "feat_info[feat_info['type'] == 'categorical']"
   ]
  },
  {
   "cell_type": "code",
   "execution_count": 23,
   "metadata": {},
   "outputs": [
    {
     "data": {
      "text/plain": [
       "['CJT_GESAMTTYP',\n",
       " 'FINANZTYP',\n",
       " 'GFK_URLAUBERTYP',\n",
       " 'LP_FAMILIE_FEIN',\n",
       " 'LP_FAMILIE_GROB',\n",
       " 'LP_STATUS_FEIN',\n",
       " 'LP_STATUS_GROB',\n",
       " 'NATIONALITAET_KZ',\n",
       " 'SHOPPER_TYP',\n",
       " 'ZABEOTYP',\n",
       " 'GEBAEUDETYP',\n",
       " 'OST_WEST_KZ',\n",
       " 'CAMEO_DEUG_2015',\n",
       " 'CAMEO_DEU_2015']"
      ]
     },
     "execution_count": 23,
     "metadata": {},
     "output_type": "execute_result"
    }
   ],
   "source": [
    "cols_to_drop = feat_info[feat_info['type'] == 'categorical']['attribute'].tolist()\n",
    "[cols_to_drop.remove(x) for x in ['AGER_TYP', 'TITEL_KZ', 'ANREDE_KZ', 'GREEN_AVANTGARDE', 'SOHO_KZ', 'VERS_TYP', 'KK_KUNDENTYP']]\n",
    "cols_to_drop"
   ]
  },
  {
   "cell_type": "code",
   "execution_count": 24,
   "metadata": {},
   "outputs": [],
   "source": [
    "azdias = pd.concat([azdias, pd.get_dummies(azdias['FINANZTYP'], prefix='FINANZTYP')], axis=1)\n",
    "azdias = pd.concat([azdias, pd.get_dummies(azdias['LP_FAMILIE_FEIN'], prefix='LP_FAMILIE_FEIN')], axis=1)\n",
    "\n",
    "azdias = azdias.drop(cols_to_drop, axis=1)"
   ]
  },
  {
   "cell_type": "code",
   "execution_count": 25,
   "metadata": {},
   "outputs": [
    {
     "data": {
      "text/html": [
       "<div>\n",
       "<style scoped>\n",
       "    .dataframe tbody tr th:only-of-type {\n",
       "        vertical-align: middle;\n",
       "    }\n",
       "\n",
       "    .dataframe tbody tr th {\n",
       "        vertical-align: top;\n",
       "    }\n",
       "\n",
       "    .dataframe thead th {\n",
       "        text-align: right;\n",
       "    }\n",
       "</style>\n",
       "<table border=\"1\" class=\"dataframe\">\n",
       "  <thead>\n",
       "    <tr style=\"text-align: right;\">\n",
       "      <th></th>\n",
       "      <th>ALTERSKATEGORIE_GROB</th>\n",
       "      <th>ANREDE_KZ</th>\n",
       "      <th>FINANZ_MINIMALIST</th>\n",
       "      <th>FINANZ_SPARER</th>\n",
       "      <th>FINANZ_VORSORGER</th>\n",
       "      <th>FINANZ_ANLEGER</th>\n",
       "      <th>FINANZ_UNAUFFAELLIGER</th>\n",
       "      <th>FINANZ_HAUSBAUER</th>\n",
       "      <th>GREEN_AVANTGARDE</th>\n",
       "      <th>HEALTH_TYP</th>\n",
       "      <th>...</th>\n",
       "      <th>LP_FAMILIE_FEIN_2.0</th>\n",
       "      <th>LP_FAMILIE_FEIN_3.0</th>\n",
       "      <th>LP_FAMILIE_FEIN_4.0</th>\n",
       "      <th>LP_FAMILIE_FEIN_5.0</th>\n",
       "      <th>LP_FAMILIE_FEIN_6.0</th>\n",
       "      <th>LP_FAMILIE_FEIN_7.0</th>\n",
       "      <th>LP_FAMILIE_FEIN_8.0</th>\n",
       "      <th>LP_FAMILIE_FEIN_9.0</th>\n",
       "      <th>LP_FAMILIE_FEIN_10.0</th>\n",
       "      <th>LP_FAMILIE_FEIN_11.0</th>\n",
       "    </tr>\n",
       "  </thead>\n",
       "  <tbody>\n",
       "    <tr>\n",
       "      <th>0</th>\n",
       "      <td>2.0</td>\n",
       "      <td>1</td>\n",
       "      <td>3</td>\n",
       "      <td>4</td>\n",
       "      <td>3</td>\n",
       "      <td>5</td>\n",
       "      <td>5</td>\n",
       "      <td>3</td>\n",
       "      <td>0</td>\n",
       "      <td>NaN</td>\n",
       "      <td>...</td>\n",
       "      <td>1</td>\n",
       "      <td>0</td>\n",
       "      <td>0</td>\n",
       "      <td>0</td>\n",
       "      <td>0</td>\n",
       "      <td>0</td>\n",
       "      <td>0</td>\n",
       "      <td>0</td>\n",
       "      <td>0</td>\n",
       "      <td>0</td>\n",
       "    </tr>\n",
       "    <tr>\n",
       "      <th>1</th>\n",
       "      <td>1.0</td>\n",
       "      <td>2</td>\n",
       "      <td>1</td>\n",
       "      <td>5</td>\n",
       "      <td>2</td>\n",
       "      <td>5</td>\n",
       "      <td>4</td>\n",
       "      <td>5</td>\n",
       "      <td>0</td>\n",
       "      <td>3.0</td>\n",
       "      <td>...</td>\n",
       "      <td>0</td>\n",
       "      <td>0</td>\n",
       "      <td>0</td>\n",
       "      <td>1</td>\n",
       "      <td>0</td>\n",
       "      <td>0</td>\n",
       "      <td>0</td>\n",
       "      <td>0</td>\n",
       "      <td>0</td>\n",
       "      <td>0</td>\n",
       "    </tr>\n",
       "    <tr>\n",
       "      <th>2</th>\n",
       "      <td>3.0</td>\n",
       "      <td>2</td>\n",
       "      <td>1</td>\n",
       "      <td>4</td>\n",
       "      <td>1</td>\n",
       "      <td>2</td>\n",
       "      <td>3</td>\n",
       "      <td>5</td>\n",
       "      <td>1</td>\n",
       "      <td>3.0</td>\n",
       "      <td>...</td>\n",
       "      <td>0</td>\n",
       "      <td>0</td>\n",
       "      <td>0</td>\n",
       "      <td>0</td>\n",
       "      <td>0</td>\n",
       "      <td>0</td>\n",
       "      <td>0</td>\n",
       "      <td>0</td>\n",
       "      <td>0</td>\n",
       "      <td>0</td>\n",
       "    </tr>\n",
       "    <tr>\n",
       "      <th>3</th>\n",
       "      <td>4.0</td>\n",
       "      <td>2</td>\n",
       "      <td>4</td>\n",
       "      <td>2</td>\n",
       "      <td>5</td>\n",
       "      <td>2</td>\n",
       "      <td>1</td>\n",
       "      <td>2</td>\n",
       "      <td>0</td>\n",
       "      <td>2.0</td>\n",
       "      <td>...</td>\n",
       "      <td>0</td>\n",
       "      <td>0</td>\n",
       "      <td>0</td>\n",
       "      <td>0</td>\n",
       "      <td>0</td>\n",
       "      <td>0</td>\n",
       "      <td>0</td>\n",
       "      <td>0</td>\n",
       "      <td>0</td>\n",
       "      <td>0</td>\n",
       "    </tr>\n",
       "    <tr>\n",
       "      <th>4</th>\n",
       "      <td>3.0</td>\n",
       "      <td>1</td>\n",
       "      <td>4</td>\n",
       "      <td>3</td>\n",
       "      <td>4</td>\n",
       "      <td>1</td>\n",
       "      <td>3</td>\n",
       "      <td>2</td>\n",
       "      <td>0</td>\n",
       "      <td>3.0</td>\n",
       "      <td>...</td>\n",
       "      <td>0</td>\n",
       "      <td>0</td>\n",
       "      <td>0</td>\n",
       "      <td>0</td>\n",
       "      <td>0</td>\n",
       "      <td>0</td>\n",
       "      <td>0</td>\n",
       "      <td>0</td>\n",
       "      <td>1</td>\n",
       "      <td>0</td>\n",
       "    </tr>\n",
       "  </tbody>\n",
       "</table>\n",
       "<p>5 rows × 82 columns</p>\n",
       "</div>"
      ],
      "text/plain": [
       "   ALTERSKATEGORIE_GROB  ANREDE_KZ  FINANZ_MINIMALIST  FINANZ_SPARER  \\\n",
       "0                   2.0          1                  3              4   \n",
       "1                   1.0          2                  1              5   \n",
       "2                   3.0          2                  1              4   \n",
       "3                   4.0          2                  4              2   \n",
       "4                   3.0          1                  4              3   \n",
       "\n",
       "   FINANZ_VORSORGER  FINANZ_ANLEGER  FINANZ_UNAUFFAELLIGER  FINANZ_HAUSBAUER  \\\n",
       "0                 3               5                      5                 3   \n",
       "1                 2               5                      4                 5   \n",
       "2                 1               2                      3                 5   \n",
       "3                 5               2                      1                 2   \n",
       "4                 4               1                      3                 2   \n",
       "\n",
       "   GREEN_AVANTGARDE  HEALTH_TYP          ...           LP_FAMILIE_FEIN_2.0  \\\n",
       "0                 0         NaN          ...                             1   \n",
       "1                 0         3.0          ...                             0   \n",
       "2                 1         3.0          ...                             0   \n",
       "3                 0         2.0          ...                             0   \n",
       "4                 0         3.0          ...                             0   \n",
       "\n",
       "   LP_FAMILIE_FEIN_3.0  LP_FAMILIE_FEIN_4.0  LP_FAMILIE_FEIN_5.0  \\\n",
       "0                    0                    0                    0   \n",
       "1                    0                    0                    1   \n",
       "2                    0                    0                    0   \n",
       "3                    0                    0                    0   \n",
       "4                    0                    0                    0   \n",
       "\n",
       "   LP_FAMILIE_FEIN_6.0  LP_FAMILIE_FEIN_7.0  LP_FAMILIE_FEIN_8.0  \\\n",
       "0                    0                    0                    0   \n",
       "1                    0                    0                    0   \n",
       "2                    0                    0                    0   \n",
       "3                    0                    0                    0   \n",
       "4                    0                    0                    0   \n",
       "\n",
       "   LP_FAMILIE_FEIN_9.0  LP_FAMILIE_FEIN_10.0  LP_FAMILIE_FEIN_11.0  \n",
       "0                    0                     0                     0  \n",
       "1                    0                     0                     0  \n",
       "2                    0                     0                     0  \n",
       "3                    0                     0                     0  \n",
       "4                    0                     1                     0  \n",
       "\n",
       "[5 rows x 82 columns]"
      ]
     },
     "execution_count": 25,
     "metadata": {},
     "output_type": "execute_result"
    }
   ],
   "source": [
    "azdias.head()"
   ]
  },
  {
   "cell_type": "markdown",
   "metadata": {},
   "source": [
    "#### Discussion 1.2.1: Re-Encode Categorical Features\n",
    "\n",
    "After checking the data, I found that the binary column that was encoded with letters contained information on whether the person lived on the east or west side of germany. I don't location has a great impact on whether these people will be consumers or not since the company performs mail-order sales, so I left that column out. I also didn't want to clutter the dataset that much, so I only one-hot encoded a few categorical columns. My reasoning is that things like energy consumption don't seem very related to whether or not they would be potential customers and information like vacation habits may be obtained from their finance type. All in all, I simply encoded finance type (FINANZTYP) and family type rough categorization (LP_FAMILIE_GROB)."
   ]
  },
  {
   "cell_type": "markdown",
   "metadata": {},
   "source": [
    "#### Step 1.2.2: Engineer Mixed-Type Features\n"
   ]
  },
  {
   "cell_type": "code",
   "execution_count": 26,
   "metadata": {},
   "outputs": [
    {
     "data": {
      "text/html": [
       "<div>\n",
       "<style scoped>\n",
       "    .dataframe tbody tr th:only-of-type {\n",
       "        vertical-align: middle;\n",
       "    }\n",
       "\n",
       "    .dataframe tbody tr th {\n",
       "        vertical-align: top;\n",
       "    }\n",
       "\n",
       "    .dataframe thead th {\n",
       "        text-align: right;\n",
       "    }\n",
       "</style>\n",
       "<table border=\"1\" class=\"dataframe\">\n",
       "  <thead>\n",
       "    <tr style=\"text-align: right;\">\n",
       "      <th></th>\n",
       "      <th>attribute</th>\n",
       "      <th>information_level</th>\n",
       "      <th>type</th>\n",
       "      <th>missing_or_unknown</th>\n",
       "    </tr>\n",
       "  </thead>\n",
       "  <tbody>\n",
       "    <tr>\n",
       "      <th>15</th>\n",
       "      <td>LP_LEBENSPHASE_FEIN</td>\n",
       "      <td>person</td>\n",
       "      <td>mixed</td>\n",
       "      <td>[0]</td>\n",
       "    </tr>\n",
       "    <tr>\n",
       "      <th>16</th>\n",
       "      <td>LP_LEBENSPHASE_GROB</td>\n",
       "      <td>person</td>\n",
       "      <td>mixed</td>\n",
       "      <td>[0]</td>\n",
       "    </tr>\n",
       "    <tr>\n",
       "      <th>22</th>\n",
       "      <td>PRAEGENDE_JUGENDJAHRE</td>\n",
       "      <td>person</td>\n",
       "      <td>mixed</td>\n",
       "      <td>[-1,0]</td>\n",
       "    </tr>\n",
       "    <tr>\n",
       "      <th>56</th>\n",
       "      <td>WOHNLAGE</td>\n",
       "      <td>building</td>\n",
       "      <td>mixed</td>\n",
       "      <td>[-1]</td>\n",
       "    </tr>\n",
       "    <tr>\n",
       "      <th>59</th>\n",
       "      <td>CAMEO_INTL_2015</td>\n",
       "      <td>microcell_rr4</td>\n",
       "      <td>mixed</td>\n",
       "      <td>[-1,XX]</td>\n",
       "    </tr>\n",
       "    <tr>\n",
       "      <th>64</th>\n",
       "      <td>KBA05_BAUMAX</td>\n",
       "      <td>microcell_rr3</td>\n",
       "      <td>mixed</td>\n",
       "      <td>[-1,0]</td>\n",
       "    </tr>\n",
       "    <tr>\n",
       "      <th>79</th>\n",
       "      <td>PLZ8_BAUMAX</td>\n",
       "      <td>macrocell_plz8</td>\n",
       "      <td>mixed</td>\n",
       "      <td>[-1,0]</td>\n",
       "    </tr>\n",
       "  </tbody>\n",
       "</table>\n",
       "</div>"
      ],
      "text/plain": [
       "                attribute information_level   type missing_or_unknown\n",
       "15    LP_LEBENSPHASE_FEIN            person  mixed                [0]\n",
       "16    LP_LEBENSPHASE_GROB            person  mixed                [0]\n",
       "22  PRAEGENDE_JUGENDJAHRE            person  mixed             [-1,0]\n",
       "56               WOHNLAGE          building  mixed               [-1]\n",
       "59        CAMEO_INTL_2015     microcell_rr4  mixed            [-1,XX]\n",
       "64           KBA05_BAUMAX     microcell_rr3  mixed             [-1,0]\n",
       "79            PLZ8_BAUMAX    macrocell_plz8  mixed             [-1,0]"
      ]
     },
     "execution_count": 26,
     "metadata": {},
     "output_type": "execute_result"
    }
   ],
   "source": [
    "feat_info[feat_info['type'] == 'mixed']"
   ]
  },
  {
   "cell_type": "code",
   "execution_count": 27,
   "metadata": {},
   "outputs": [],
   "source": [
    "def label_decade(row):\n",
    "    val = row['PRAEGENDE_JUGENDJAHRE']\n",
    "    if val == 1 or val == 2:\n",
    "        return 1\n",
    "    if val == 3 or val == 4:\n",
    "        return 2\n",
    "    if val >= 5 and val <= 7:\n",
    "        return 3\n",
    "    if val == 8 or val == 9:\n",
    "        return 4\n",
    "    if val >= 10 and val <= 13:\n",
    "        return 5\n",
    "    if val == 14 or val == 15:\n",
    "        return 6\n"
   ]
  },
  {
   "cell_type": "code",
   "execution_count": 28,
   "metadata": {},
   "outputs": [],
   "source": [
    "decade = azdias.apply(label_decade, axis=1)"
   ]
  },
  {
   "cell_type": "code",
   "execution_count": 29,
   "metadata": {},
   "outputs": [],
   "source": [
    "def label_movement(row):\n",
    "    val = row['PRAEGENDE_JUGENDJAHRE']\n",
    "    mainstream = [1, 3, 5, 8, 10, 12, 14]\n",
    "    if val in mainstream:\n",
    "        return 0\n",
    "    if not np.isnan(val):\n",
    "        return 1"
   ]
  },
  {
   "cell_type": "code",
   "execution_count": 30,
   "metadata": {},
   "outputs": [],
   "source": [
    "movement = azdias.apply(label_movement, axis=1)"
   ]
  },
  {
   "cell_type": "code",
   "execution_count": 31,
   "metadata": {},
   "outputs": [],
   "source": [
    "def label_wealth(row):\n",
    "    val = row['CAMEO_INTL_2015']\n",
    "    try:\n",
    "        val = int(val) // 10\n",
    "        return int(val)\n",
    "    except:\n",
    "        return val\n",
    "wealth = azdias.apply(label_wealth, axis=1)"
   ]
  },
  {
   "cell_type": "code",
   "execution_count": 32,
   "metadata": {},
   "outputs": [],
   "source": [
    "def label_lifestage(row):\n",
    "    val = row['CAMEO_INTL_2015']\n",
    "    try:\n",
    "        val = int(val) % 10\n",
    "        return int(val)\n",
    "    except:\n",
    "        return val\n",
    "lifestage = azdias.apply(label_lifestage, axis=1)"
   ]
  },
  {
   "cell_type": "markdown",
   "metadata": {},
   "source": [
    "#### Discussion 1.2.2: Engineer Mixed-Type Features\n",
    "\n",
    "The other mixed-value features contained information regarding the lifestage, neighborhood quality, and most common building type in the plz8 region. We already have information extracted about the lifestage from CAMEO_INTL_2015, financial status should also relate to neighborhood quality, and building type didn't seem too relevant, so I dropped the other mixed-value features and only took steps to extract variables from the two specified columns.\n",
    "\n",
    "For PRAEGENDE_JUGENDJAHRE:\n",
    "\n",
    "Decade: 1 - 40s, 2 - 50s, 3 - 60s, 4 - 70s, 5 - 80s, 6 - 90s\n",
    "\n",
    "Movement: Mainstream = 0, Avantgarde = 1\n",
    "\n",
    "\n",
    "\n",
    "For CAMEO_INTL_2015:\n",
    "\n",
    "Wealth: 1 - Wealthy, 2 - Prosperous, 3 - Comfortable, 4 - Less Affluent, 5 - Poorer\n",
    "\n",
    "Lifestage: 1 - Pre-Family Couples and Singles, 2 - Young Couples with Children, 3 - Families With School Age Children, 4 - Older Families &  Mature Couples, 5- Elders In Retirement"
   ]
  },
  {
   "cell_type": "markdown",
   "metadata": {},
   "source": [
    "#### Step 1.2.3: Complete Feature Selection\n"
   ]
  },
  {
   "cell_type": "code",
   "execution_count": 33,
   "metadata": {},
   "outputs": [
    {
     "data": {
      "text/html": [
       "<div>\n",
       "<style scoped>\n",
       "    .dataframe tbody tr th:only-of-type {\n",
       "        vertical-align: middle;\n",
       "    }\n",
       "\n",
       "    .dataframe tbody tr th {\n",
       "        vertical-align: top;\n",
       "    }\n",
       "\n",
       "    .dataframe thead th {\n",
       "        text-align: right;\n",
       "    }\n",
       "</style>\n",
       "<table border=\"1\" class=\"dataframe\">\n",
       "  <thead>\n",
       "    <tr style=\"text-align: right;\">\n",
       "      <th></th>\n",
       "      <th>ALTERSKATEGORIE_GROB</th>\n",
       "      <th>ANREDE_KZ</th>\n",
       "      <th>FINANZ_MINIMALIST</th>\n",
       "      <th>FINANZ_SPARER</th>\n",
       "      <th>FINANZ_VORSORGER</th>\n",
       "      <th>FINANZ_ANLEGER</th>\n",
       "      <th>FINANZ_UNAUFFAELLIGER</th>\n",
       "      <th>FINANZ_HAUSBAUER</th>\n",
       "      <th>GREEN_AVANTGARDE</th>\n",
       "      <th>HEALTH_TYP</th>\n",
       "      <th>...</th>\n",
       "      <th>LP_FAMILIE_FEIN_6.0</th>\n",
       "      <th>LP_FAMILIE_FEIN_7.0</th>\n",
       "      <th>LP_FAMILIE_FEIN_8.0</th>\n",
       "      <th>LP_FAMILIE_FEIN_9.0</th>\n",
       "      <th>LP_FAMILIE_FEIN_10.0</th>\n",
       "      <th>LP_FAMILIE_FEIN_11.0</th>\n",
       "      <th>Decade</th>\n",
       "      <th>Movement</th>\n",
       "      <th>Wealth</th>\n",
       "      <th>Lifestage</th>\n",
       "    </tr>\n",
       "  </thead>\n",
       "  <tbody>\n",
       "    <tr>\n",
       "      <th>0</th>\n",
       "      <td>2.0</td>\n",
       "      <td>1</td>\n",
       "      <td>3</td>\n",
       "      <td>4</td>\n",
       "      <td>3</td>\n",
       "      <td>5</td>\n",
       "      <td>5</td>\n",
       "      <td>3</td>\n",
       "      <td>0</td>\n",
       "      <td>NaN</td>\n",
       "      <td>...</td>\n",
       "      <td>0</td>\n",
       "      <td>0</td>\n",
       "      <td>0</td>\n",
       "      <td>0</td>\n",
       "      <td>0</td>\n",
       "      <td>0</td>\n",
       "      <td>NaN</td>\n",
       "      <td>NaN</td>\n",
       "      <td>NaN</td>\n",
       "      <td>NaN</td>\n",
       "    </tr>\n",
       "    <tr>\n",
       "      <th>1</th>\n",
       "      <td>1.0</td>\n",
       "      <td>2</td>\n",
       "      <td>1</td>\n",
       "      <td>5</td>\n",
       "      <td>2</td>\n",
       "      <td>5</td>\n",
       "      <td>4</td>\n",
       "      <td>5</td>\n",
       "      <td>0</td>\n",
       "      <td>3.0</td>\n",
       "      <td>...</td>\n",
       "      <td>0</td>\n",
       "      <td>0</td>\n",
       "      <td>0</td>\n",
       "      <td>0</td>\n",
       "      <td>0</td>\n",
       "      <td>0</td>\n",
       "      <td>6.0</td>\n",
       "      <td>0.0</td>\n",
       "      <td>5.0</td>\n",
       "      <td>1.0</td>\n",
       "    </tr>\n",
       "    <tr>\n",
       "      <th>2</th>\n",
       "      <td>3.0</td>\n",
       "      <td>2</td>\n",
       "      <td>1</td>\n",
       "      <td>4</td>\n",
       "      <td>1</td>\n",
       "      <td>2</td>\n",
       "      <td>3</td>\n",
       "      <td>5</td>\n",
       "      <td>1</td>\n",
       "      <td>3.0</td>\n",
       "      <td>...</td>\n",
       "      <td>0</td>\n",
       "      <td>0</td>\n",
       "      <td>0</td>\n",
       "      <td>0</td>\n",
       "      <td>0</td>\n",
       "      <td>0</td>\n",
       "      <td>6.0</td>\n",
       "      <td>1.0</td>\n",
       "      <td>2.0</td>\n",
       "      <td>4.0</td>\n",
       "    </tr>\n",
       "    <tr>\n",
       "      <th>3</th>\n",
       "      <td>4.0</td>\n",
       "      <td>2</td>\n",
       "      <td>4</td>\n",
       "      <td>2</td>\n",
       "      <td>5</td>\n",
       "      <td>2</td>\n",
       "      <td>1</td>\n",
       "      <td>2</td>\n",
       "      <td>0</td>\n",
       "      <td>2.0</td>\n",
       "      <td>...</td>\n",
       "      <td>0</td>\n",
       "      <td>0</td>\n",
       "      <td>0</td>\n",
       "      <td>0</td>\n",
       "      <td>0</td>\n",
       "      <td>0</td>\n",
       "      <td>4.0</td>\n",
       "      <td>0.0</td>\n",
       "      <td>1.0</td>\n",
       "      <td>2.0</td>\n",
       "    </tr>\n",
       "    <tr>\n",
       "      <th>4</th>\n",
       "      <td>3.0</td>\n",
       "      <td>1</td>\n",
       "      <td>4</td>\n",
       "      <td>3</td>\n",
       "      <td>4</td>\n",
       "      <td>1</td>\n",
       "      <td>3</td>\n",
       "      <td>2</td>\n",
       "      <td>0</td>\n",
       "      <td>3.0</td>\n",
       "      <td>...</td>\n",
       "      <td>0</td>\n",
       "      <td>0</td>\n",
       "      <td>0</td>\n",
       "      <td>0</td>\n",
       "      <td>1</td>\n",
       "      <td>0</td>\n",
       "      <td>4.0</td>\n",
       "      <td>0.0</td>\n",
       "      <td>4.0</td>\n",
       "      <td>3.0</td>\n",
       "    </tr>\n",
       "  </tbody>\n",
       "</table>\n",
       "<p>5 rows × 86 columns</p>\n",
       "</div>"
      ],
      "text/plain": [
       "   ALTERSKATEGORIE_GROB  ANREDE_KZ  FINANZ_MINIMALIST  FINANZ_SPARER  \\\n",
       "0                   2.0          1                  3              4   \n",
       "1                   1.0          2                  1              5   \n",
       "2                   3.0          2                  1              4   \n",
       "3                   4.0          2                  4              2   \n",
       "4                   3.0          1                  4              3   \n",
       "\n",
       "   FINANZ_VORSORGER  FINANZ_ANLEGER  FINANZ_UNAUFFAELLIGER  FINANZ_HAUSBAUER  \\\n",
       "0                 3               5                      5                 3   \n",
       "1                 2               5                      4                 5   \n",
       "2                 1               2                      3                 5   \n",
       "3                 5               2                      1                 2   \n",
       "4                 4               1                      3                 2   \n",
       "\n",
       "   GREEN_AVANTGARDE  HEALTH_TYP    ...      LP_FAMILIE_FEIN_6.0  \\\n",
       "0                 0         NaN    ...                        0   \n",
       "1                 0         3.0    ...                        0   \n",
       "2                 1         3.0    ...                        0   \n",
       "3                 0         2.0    ...                        0   \n",
       "4                 0         3.0    ...                        0   \n",
       "\n",
       "   LP_FAMILIE_FEIN_7.0  LP_FAMILIE_FEIN_8.0  LP_FAMILIE_FEIN_9.0  \\\n",
       "0                    0                    0                    0   \n",
       "1                    0                    0                    0   \n",
       "2                    0                    0                    0   \n",
       "3                    0                    0                    0   \n",
       "4                    0                    0                    0   \n",
       "\n",
       "   LP_FAMILIE_FEIN_10.0  LP_FAMILIE_FEIN_11.0  Decade  Movement  Wealth  \\\n",
       "0                     0                     0     NaN       NaN     NaN   \n",
       "1                     0                     0     6.0       0.0     5.0   \n",
       "2                     0                     0     6.0       1.0     2.0   \n",
       "3                     0                     0     4.0       0.0     1.0   \n",
       "4                     1                     0     4.0       0.0     4.0   \n",
       "\n",
       "   Lifestage  \n",
       "0        NaN  \n",
       "1        1.0  \n",
       "2        4.0  \n",
       "3        2.0  \n",
       "4        3.0  \n",
       "\n",
       "[5 rows x 86 columns]"
      ]
     },
     "execution_count": 33,
     "metadata": {},
     "output_type": "execute_result"
    }
   ],
   "source": [
    "new_cols = pd.concat([decade, movement, wealth, lifestage], keys = [\"Decade\", \"Movement\", \"Wealth\", \"Lifestage\"], axis = 1)\n",
    "azdias = pd.concat([azdias, new_cols], axis = 1)\n",
    "azdias.head()"
   ]
  },
  {
   "cell_type": "code",
   "execution_count": 34,
   "metadata": {},
   "outputs": [],
   "source": [
    "cols_to_drop_2 = feat_info[feat_info['type'] == 'mixed']['attribute'].tolist()\n",
    "cols_to_drop_2.remove('KBA05_BAUMAX')\n",
    "azdias = azdias.drop(cols_to_drop_2, axis=1)"
   ]
  },
  {
   "cell_type": "markdown",
   "metadata": {},
   "source": [
    "### Step 1.3: Create a Cleaning Function\n",
    "\n",
    "Even though you've finished cleaning up the general population demographics data, it's important to look ahead to the future and realize that you'll need to perform the same cleaning steps on the customer demographics data. In this substep, complete the function below to execute the main feature selection, encoding, and re-engineering steps you performed above. Then, when it comes to looking at the customer data in Step 3, you can just run this function on that DataFrame to get the trimmed dataset in a single step."
   ]
  },
  {
   "cell_type": "code",
   "execution_count": 57,
   "metadata": {},
   "outputs": [],
   "source": [
    "def clean_data(df):\n",
    "    \"\"\"\n",
    "    Perform feature trimming, re-encoding, and engineering for demographics\n",
    "    data\n",
    "    \n",
    "    INPUT: Demographics DataFrame\n",
    "    OUTPUT: Trimmed and cleaned demographics DataFrame\n",
    "    \"\"\"\n",
    "    \n",
    "    # convert missing value codes into NaNs, ...\n",
    "    for i in range(len(feat_info)):\n",
    "        l = feat_info.iloc[i,3].strip('][').split(',')\n",
    "        if l[0] != '':\n",
    "            for j in range(len(l)):\n",
    "                try:\n",
    "                    l[j] = int(l[j])\n",
    "                except:\n",
    "                    pass \n",
    "            df.iloc[:,i] = df.iloc[:,i].replace(l, np.nan)\n",
    "    \n",
    "    # remove selected columns and rows, ...\n",
    "    df = df.drop(outlier_cols, axis=1)#cols = 79\n",
    "    print(df.head())\n",
    "    \n",
    "    missing_data_rows = df.isna().sum(axis=1)\n",
    "    rows_nan_more_than_0 = np.nonzero(missing_data_rows.values > 0)[0].tolist()\n",
    "    df = df.drop(rows_nan_more_than_0, axis = 0) \n",
    "    \n",
    "    # select, re-encode, and engineer column values.\n",
    "    df = pd.concat([df, pd.get_dummies(df['FINANZTYP'], prefix='FINANZTYP')], axis=1)\n",
    "    df = pd.concat([df, pd.get_dummies(df['LP_FAMILIE_FEIN'], prefix='LP_FAMILIE_FEIN')], axis=1)\n",
    "    df = df.drop(cols_to_drop, axis=1) #cols = 82\n",
    "    \n",
    "    decade = df.apply(label_decade, axis=1)\n",
    "    movement = df.apply(label_movement, axis=1)\n",
    "    wealth = df.apply(label_wealth, axis=1)\n",
    "    lifestage = df.apply(label_lifestage, axis=1)\n",
    "    new_cols = pd.concat([decade, movement, wealth, lifestage], keys = [\"Decade\", \"Movement\", \"Wealth\", \"Lifestage\"], axis = 1)\n",
    "    df = pd.concat([df, new_cols], axis = 1)\n",
    "    df = df.drop(cols_to_drop_2, axis=1) #cols = 80\n",
    "    \n",
    "    return df\n",
    "    \n",
    "    "
   ]
  },
  {
   "cell_type": "markdown",
   "metadata": {},
   "source": [
    "## Step 2: Feature Transformation\n",
    "\n",
    "### Step 2.1: Apply Feature Scaling\n"
   ]
  },
  {
   "cell_type": "code",
   "execution_count": 36,
   "metadata": {},
   "outputs": [],
   "source": [
    "# clean the dataset of all NaN values\n",
    "missing_data_rows = azdias.isna().sum(axis=1)\n",
    "rows_nan_more_than_0 = np.nonzero(missing_data_rows.values > 0)[0].tolist()\n",
    "azdias = azdias.drop(rows_nan_more_than_0, axis = 0)\n"
   ]
  },
  {
   "cell_type": "code",
   "execution_count": 37,
   "metadata": {},
   "outputs": [
    {
     "data": {
      "text/html": [
       "<div>\n",
       "<style scoped>\n",
       "    .dataframe tbody tr th:only-of-type {\n",
       "        vertical-align: middle;\n",
       "    }\n",
       "\n",
       "    .dataframe tbody tr th {\n",
       "        vertical-align: top;\n",
       "    }\n",
       "\n",
       "    .dataframe thead th {\n",
       "        text-align: right;\n",
       "    }\n",
       "</style>\n",
       "<table border=\"1\" class=\"dataframe\">\n",
       "  <thead>\n",
       "    <tr style=\"text-align: right;\">\n",
       "      <th></th>\n",
       "      <th>ALTERSKATEGORIE_GROB</th>\n",
       "      <th>ANREDE_KZ</th>\n",
       "      <th>FINANZ_MINIMALIST</th>\n",
       "      <th>FINANZ_SPARER</th>\n",
       "      <th>FINANZ_VORSORGER</th>\n",
       "      <th>FINANZ_ANLEGER</th>\n",
       "      <th>FINANZ_UNAUFFAELLIGER</th>\n",
       "      <th>FINANZ_HAUSBAUER</th>\n",
       "      <th>GREEN_AVANTGARDE</th>\n",
       "      <th>HEALTH_TYP</th>\n",
       "      <th>...</th>\n",
       "      <th>LP_FAMILIE_FEIN_6.0</th>\n",
       "      <th>LP_FAMILIE_FEIN_7.0</th>\n",
       "      <th>LP_FAMILIE_FEIN_8.0</th>\n",
       "      <th>LP_FAMILIE_FEIN_9.0</th>\n",
       "      <th>LP_FAMILIE_FEIN_10.0</th>\n",
       "      <th>LP_FAMILIE_FEIN_11.0</th>\n",
       "      <th>Decade</th>\n",
       "      <th>Movement</th>\n",
       "      <th>Wealth</th>\n",
       "      <th>Lifestage</th>\n",
       "    </tr>\n",
       "  </thead>\n",
       "  <tbody>\n",
       "    <tr>\n",
       "      <th>0</th>\n",
       "      <td>-1.746287</td>\n",
       "      <td>0.977825</td>\n",
       "      <td>-1.512226</td>\n",
       "      <td>1.581061</td>\n",
       "      <td>-1.045045</td>\n",
       "      <td>1.539061</td>\n",
       "      <td>1.047076</td>\n",
       "      <td>1.340485</td>\n",
       "      <td>-0.553672</td>\n",
       "      <td>1.044646</td>\n",
       "      <td>...</td>\n",
       "      <td>-0.100332</td>\n",
       "      <td>-0.152019</td>\n",
       "      <td>-0.166262</td>\n",
       "      <td>-0.119891</td>\n",
       "      <td>-0.458592</td>\n",
       "      <td>-0.266228</td>\n",
       "      <td>1.164455</td>\n",
       "      <td>-0.553672</td>\n",
       "      <td>1.147884</td>\n",
       "      <td>-1.251111</td>\n",
       "    </tr>\n",
       "    <tr>\n",
       "      <th>1</th>\n",
       "      <td>0.202108</td>\n",
       "      <td>0.977825</td>\n",
       "      <td>-1.512226</td>\n",
       "      <td>0.900446</td>\n",
       "      <td>-1.765054</td>\n",
       "      <td>-0.531624</td>\n",
       "      <td>0.318375</td>\n",
       "      <td>1.340485</td>\n",
       "      <td>1.806125</td>\n",
       "      <td>1.044646</td>\n",
       "      <td>...</td>\n",
       "      <td>-0.100332</td>\n",
       "      <td>-0.152019</td>\n",
       "      <td>-0.166262</td>\n",
       "      <td>-0.119891</td>\n",
       "      <td>-0.458592</td>\n",
       "      <td>-0.266228</td>\n",
       "      <td>1.164455</td>\n",
       "      <td>1.806125</td>\n",
       "      <td>-0.909992</td>\n",
       "      <td>0.749820</td>\n",
       "    </tr>\n",
       "    <tr>\n",
       "      <th>2</th>\n",
       "      <td>0.202108</td>\n",
       "      <td>-1.022678</td>\n",
       "      <td>0.692400</td>\n",
       "      <td>0.219832</td>\n",
       "      <td>0.394972</td>\n",
       "      <td>-1.221852</td>\n",
       "      <td>0.318375</td>\n",
       "      <td>-0.856544</td>\n",
       "      <td>-0.553672</td>\n",
       "      <td>1.044646</td>\n",
       "      <td>...</td>\n",
       "      <td>-0.100332</td>\n",
       "      <td>-0.152019</td>\n",
       "      <td>-0.166262</td>\n",
       "      <td>-0.119891</td>\n",
       "      <td>2.180588</td>\n",
       "      <td>-0.266228</td>\n",
       "      <td>-0.213395</td>\n",
       "      <td>-0.553672</td>\n",
       "      <td>0.461926</td>\n",
       "      <td>0.082843</td>\n",
       "    </tr>\n",
       "    <tr>\n",
       "      <th>3</th>\n",
       "      <td>-1.746287</td>\n",
       "      <td>0.977825</td>\n",
       "      <td>-0.042475</td>\n",
       "      <td>-1.141397</td>\n",
       "      <td>1.114980</td>\n",
       "      <td>-0.531624</td>\n",
       "      <td>-0.410325</td>\n",
       "      <td>1.340485</td>\n",
       "      <td>-0.553672</td>\n",
       "      <td>1.044646</td>\n",
       "      <td>...</td>\n",
       "      <td>-0.100332</td>\n",
       "      <td>-0.152019</td>\n",
       "      <td>-0.166262</td>\n",
       "      <td>-0.119891</td>\n",
       "      <td>-0.458592</td>\n",
       "      <td>-0.266228</td>\n",
       "      <td>-1.591245</td>\n",
       "      <td>-0.553672</td>\n",
       "      <td>1.147884</td>\n",
       "      <td>0.749820</td>\n",
       "    </tr>\n",
       "    <tr>\n",
       "      <th>4</th>\n",
       "      <td>-0.772089</td>\n",
       "      <td>0.977825</td>\n",
       "      <td>-1.512226</td>\n",
       "      <td>1.581061</td>\n",
       "      <td>-1.765054</td>\n",
       "      <td>1.539061</td>\n",
       "      <td>1.047076</td>\n",
       "      <td>-0.124201</td>\n",
       "      <td>-0.553672</td>\n",
       "      <td>-0.273495</td>\n",
       "      <td>...</td>\n",
       "      <td>-0.100332</td>\n",
       "      <td>-0.152019</td>\n",
       "      <td>-0.166262</td>\n",
       "      <td>-0.119891</td>\n",
       "      <td>-0.458592</td>\n",
       "      <td>-0.266228</td>\n",
       "      <td>0.475530</td>\n",
       "      <td>-0.553672</td>\n",
       "      <td>-0.909992</td>\n",
       "      <td>-0.584134</td>\n",
       "    </tr>\n",
       "  </tbody>\n",
       "</table>\n",
       "<p>5 rows × 80 columns</p>\n",
       "</div>"
      ],
      "text/plain": [
       "   ALTERSKATEGORIE_GROB  ANREDE_KZ  FINANZ_MINIMALIST  FINANZ_SPARER  \\\n",
       "0             -1.746287   0.977825          -1.512226       1.581061   \n",
       "1              0.202108   0.977825          -1.512226       0.900446   \n",
       "2              0.202108  -1.022678           0.692400       0.219832   \n",
       "3             -1.746287   0.977825          -0.042475      -1.141397   \n",
       "4             -0.772089   0.977825          -1.512226       1.581061   \n",
       "\n",
       "   FINANZ_VORSORGER  FINANZ_ANLEGER  FINANZ_UNAUFFAELLIGER  FINANZ_HAUSBAUER  \\\n",
       "0         -1.045045        1.539061               1.047076          1.340485   \n",
       "1         -1.765054       -0.531624               0.318375          1.340485   \n",
       "2          0.394972       -1.221852               0.318375         -0.856544   \n",
       "3          1.114980       -0.531624              -0.410325          1.340485   \n",
       "4         -1.765054        1.539061               1.047076         -0.124201   \n",
       "\n",
       "   GREEN_AVANTGARDE  HEALTH_TYP    ...      LP_FAMILIE_FEIN_6.0  \\\n",
       "0         -0.553672    1.044646    ...                -0.100332   \n",
       "1          1.806125    1.044646    ...                -0.100332   \n",
       "2         -0.553672    1.044646    ...                -0.100332   \n",
       "3         -0.553672    1.044646    ...                -0.100332   \n",
       "4         -0.553672   -0.273495    ...                -0.100332   \n",
       "\n",
       "   LP_FAMILIE_FEIN_7.0  LP_FAMILIE_FEIN_8.0  LP_FAMILIE_FEIN_9.0  \\\n",
       "0            -0.152019            -0.166262            -0.119891   \n",
       "1            -0.152019            -0.166262            -0.119891   \n",
       "2            -0.152019            -0.166262            -0.119891   \n",
       "3            -0.152019            -0.166262            -0.119891   \n",
       "4            -0.152019            -0.166262            -0.119891   \n",
       "\n",
       "   LP_FAMILIE_FEIN_10.0  LP_FAMILIE_FEIN_11.0    Decade  Movement    Wealth  \\\n",
       "0             -0.458592             -0.266228  1.164455 -0.553672  1.147884   \n",
       "1             -0.458592             -0.266228  1.164455  1.806125 -0.909992   \n",
       "2              2.180588             -0.266228 -0.213395 -0.553672  0.461926   \n",
       "3             -0.458592             -0.266228 -1.591245 -0.553672  1.147884   \n",
       "4             -0.458592             -0.266228  0.475530 -0.553672 -0.909992   \n",
       "\n",
       "   Lifestage  \n",
       "0  -1.251111  \n",
       "1   0.749820  \n",
       "2   0.082843  \n",
       "3   0.749820  \n",
       "4  -0.584134  \n",
       "\n",
       "[5 rows x 80 columns]"
      ]
     },
     "execution_count": 37,
     "metadata": {},
     "output_type": "execute_result"
    }
   ],
   "source": [
    "standard_scaler = p.StandardScaler()\n",
    "col_names = azdias.columns\n",
    "azdias = pd.DataFrame(standard_scaler.fit_transform(azdias), columns = col_names)\n",
    "azdias.head()"
   ]
  },
  {
   "cell_type": "markdown",
   "metadata": {},
   "source": [
    "### Discussion 2.1: Apply Feature Scaling\n",
    "\n",
    "I decided to clean the dataset of all remaining NaN values by removing rows that contained NaN values since the rows that contained NaN values were a comparatively small subset of the the entire dataset. To apply feature scaling, I made use of the StandardScaler from sklearn to scale each feature to have a mean of 0 and standard deviation of 1."
   ]
  },
  {
   "cell_type": "markdown",
   "metadata": {},
   "source": [
    "### Step 2.2: Perform Dimensionality Reduction\n"
   ]
  },
  {
   "cell_type": "code",
   "execution_count": 38,
   "metadata": {},
   "outputs": [],
   "source": [
    "pca = PCA()\n",
    "X_pca = pca.fit_transform(azdias)"
   ]
  },
  {
   "cell_type": "code",
   "execution_count": 39,
   "metadata": {},
   "outputs": [],
   "source": [
    "def scree_plot(pca):\n",
    "    '''\n",
    "    Creates a scree plot associated with the principal components \n",
    "    \n",
    "    INPUT: pca - the result of instantian of PCA in scikit learn\n",
    "            \n",
    "    OUTPUT:\n",
    "            None\n",
    "    '''\n",
    "    num_components=len(pca.explained_variance_ratio_)\n",
    "    ind = np.arange(num_components)\n",
    "    vals = pca.explained_variance_ratio_\n",
    " \n",
    "    plt.figure(figsize=(10, 6))\n",
    "    ax = plt.subplot(111)\n",
    "    cumvals = np.cumsum(vals)\n",
    "    ax.bar(ind, vals)\n",
    "    ax.plot(ind, cumvals)\n",
    "    for i in range(num_components):\n",
    "        ax.annotate(r\"%s%%\" % ((str(vals[i]*100)[:4])), (ind[i]+0.2, vals[i]), va=\"bottom\", ha=\"center\", fontsize=12)\n",
    " \n",
    "    ax.xaxis.set_tick_params(width=0)\n",
    "    ax.yaxis.set_tick_params(width=2, length=12)\n",
    " \n",
    "    ax.set_xlabel(\"Principal Component\")\n",
    "    ax.set_ylabel(\"Variance Explained (%)\")\n",
    "    plt.title('Explained Variance Per Principal Component')\n",
    "    \n"
   ]
  },
  {
   "cell_type": "code",
   "execution_count": 40,
   "metadata": {},
   "outputs": [
    {
     "data": {
      "image/png": "[encoded data removed]",
      "text/plain": [
       "<matplotlib.figure.Figure at 0x7fa3101446d8>"
      ]
     },
     "metadata": {
      "needs_background": "light"
     },
     "output_type": "display_data"
    }
   ],
   "source": [
    "scree_plot(pca)"
   ]
  },
  {
   "cell_type": "code",
   "execution_count": 41,
   "metadata": {},
   "outputs": [
    {
     "data": {
      "image/png": "[encoded data removed]",
      "text/plain": [
       "<matplotlib.figure.Figure at 0x7fa31013b8d0>"
      ]
     },
     "metadata": {
      "needs_background": "light"
     },
     "output_type": "display_data"
    }
   ],
   "source": [
    "pca = PCA(n_components=40)\n",
    "azdias_pca = pca.fit_transform(azdias)\n",
    "scree_plot(pca)"
   ]
  },
  {
   "cell_type": "markdown",
   "metadata": {},
   "source": [
    "### Discussion 2.2: Perform Dimensionality Reduction\n",
    "\n",
    "In principle component 1, FINANZ_MINIMALIST had the largest negative weight of about -3.27 and the largest positive weight was FINANZ_SPARER at about 1.74. As we would expect, if someone has low financial interest (high value for minimalist), then they are unlikely to be a money-saver (low value for sparer).\n",
    "\n",
    "In principle component 2, FINANZ_UNAUFFAELLIGER had the largest negative weight of about -3.07 and the largest positive weight was FINANZ_MINIMALIST at about 3.53. Once again, financial typology is shown to play a large role in explaining the variance of the data. This time, the results are not as straightforward. Apparently a person that's financially inconspicious (high value for unauffaelliger) tend to have high financial interest (low value for minimalist).\n",
    "\n",
    "In principle component 3, FINANZ_VORSORGER had the largest negative weight of about -3.07 and the largest positive weight was HEALTH_TYP at about 3.72. We see that yet again, a financial typology feature plays a huge role in  this principle component. This time, it's regarding whether a person is prepared or not and the trait it seems to be inversely related to is health typology. To be honest, I'm not completely sure I understand the labels. The higher the value of health type, the more carefree about sanitation the person seems to be is what I'm getting. So the more prepared a person is, the more serious about sanitation the person is as well. This makes sense, if I'm interpreting health types right."
   ]
  },
  {
   "cell_type": "markdown",
   "metadata": {},
   "source": [
    "### Step 2.3: Interpret Principal Components\n"
   ]
  },
  {
   "cell_type": "code",
   "execution_count": 96,
   "metadata": {
    "scrolled": true
   },
   "outputs": [
    {
     "data": {
      "text/plain": [
       "{-3.2748746756186695: 'FINANZ_MINIMALIST',\n",
       " -2.4618613885390683: 'FINANZ_VORSORGER',\n",
       " -1.6627076889033254: 'HEALTH_TYP',\n",
       " -1.522736162902778: 'SEMIO_MAT',\n",
       " -1.3827161349568762: 'KONSUMNAEHE',\n",
       " -1.2892437930580327: 'W_KEIT_KIND_HH',\n",
       " -1.1820473663883238: 'ANZ_PERSONEN',\n",
       " -1.0451717066873203: 'ANZ_TITEL',\n",
       " -1.0030344702309004: 'RETOURTYP_BK_S',\n",
       " -0.8101645469025307: 'HH_EINKOMMEN_SCORE',\n",
       " -0.72135024702125705: 'ANZ_HAUSHALTE_AKTIV',\n",
       " -0.60456135363585028: 'SEMIO_LUST',\n",
       " -0.45700495096808097: 'KBA05_ANTG1',\n",
       " -0.40423790563867595: 'ALTERSKATEGORIE_GROB',\n",
       " -0.39026999252037287: 'ANREDE_KZ',\n",
       " -0.38147497618872339: 'FINANZ_ANLEGER',\n",
       " -0.37685012183122757: 'GREEN_AVANTGARDE',\n",
       " -0.36528119781951501: 'SEMIO_FAM',\n",
       " -0.29023252948323192: 'KBA05_ANTG3',\n",
       " -0.25552976737080613: 'SEMIO_TRADV',\n",
       " -0.080505176166625447: 'FINANZ_UNAUFFAELLIGER',\n",
       " -0.072140935448321106: 'SEMIO_DOM',\n",
       " -0.052806120038890084: 'SEMIO_REL',\n",
       " -0.045793535444920423: 'VERS_TYP',\n",
       " -0.020433253414966449: 'SEMIO_KAEM',\n",
       " 0.058831662154371814: 'SEMIO_ERL',\n",
       " 0.14833456787537508: 'SEMIO_PFLICHT',\n",
       " 0.15561927837250089: 'SOHO_KZ',\n",
       " 0.1888824817610687: 'FINANZ_HAUSBAUER',\n",
       " 0.19857415378906451: 'MIN_GEBAEUDEJAHR',\n",
       " 0.21485527975768628: 'SEMIO_KRIT',\n",
       " 0.48903965160364038: 'SEMIO_VERT',\n",
       " 0.53739976495049557: 'WOHNDAUER_2008',\n",
       " 0.71040378788527614: 'ANZ_HH_TITEL',\n",
       " 1.0019741893223202: 'SEMIO_SOZ',\n",
       " 1.0178428460667324: 'KBA05_ANTG2',\n",
       " 1.0313572187270432: 'SEMIO_RAT',\n",
       " 1.2139363649086619: 'KBA05_ANTG4',\n",
       " 1.2435028921663851: 'SEMIO_KULT',\n",
       " 1.741818816021296: 'FINANZ_SPARER'}"
      ]
     },
     "execution_count": 96,
     "metadata": {},
     "output_type": "execute_result"
    }
   ],
   "source": [
    "def map_weights(pca, n_pca):\n",
    "    d = dict(zip(pca[n_pca], col_names))\n",
    "    sorted_d = {}\n",
    "    for i in sorted (d.keys()):\n",
    "        sorted_d[i] = d[i]\n",
    "    return sorted_d\n",
    "map_weights(azdias_pca, 1)"
   ]
  },
  {
   "cell_type": "code",
   "execution_count": 107,
   "metadata": {},
   "outputs": [
    {
     "data": {
      "text/plain": [
       "{-3.0656966270125867: 'FINANZ_UNAUFFAELLIGER',\n",
       " -2.0527603146519446: 'RETOURTYP_BK_S',\n",
       " -1.9535510016003887: 'SEMIO_MAT',\n",
       " -1.3994458074642258: 'ANZ_HAUSHALTE_AKTIV',\n",
       " -1.379348588688744: 'SEMIO_SOZ',\n",
       " -1.229187444862518: 'SEMIO_VERT',\n",
       " -0.71431483043039412: 'SEMIO_RAT',\n",
       " -0.71039250656537078: 'KBA05_ANTG4',\n",
       " -0.57133872562784782: 'HEALTH_TYP',\n",
       " -0.55750181825210865: 'KBA05_ANTG1',\n",
       " -0.52057988709426917: 'GREEN_AVANTGARDE',\n",
       " -0.39303844111235975: 'W_KEIT_KIND_HH',\n",
       " -0.39301862419399952: 'MIN_GEBAEUDEJAHR',\n",
       " -0.3394849794492566: 'KONSUMNAEHE',\n",
       " -0.33881547432924319: 'SEMIO_PFLICHT',\n",
       " -0.2738683833192368: 'SEMIO_TRADV',\n",
       " -0.26510906907753973: 'SEMIO_LUST',\n",
       " -0.23548756314876132: 'KBA05_ANTG2',\n",
       " -0.20602358140789942: 'WOHNDAUER_2008',\n",
       " -0.036000933756126251: 'SEMIO_KRIT',\n",
       " -0.0069799383252651705: 'SEMIO_KULT',\n",
       " -0.0046550410659188376: 'FINANZ_HAUSBAUER',\n",
       " 0.022417287493466408: 'VERS_TYP',\n",
       " 0.027431631002855422: 'KBA05_ANTG3',\n",
       " 0.1273462026601595: 'SEMIO_KAEM',\n",
       " 0.14723547693429082: 'ALTERSKATEGORIE_GROB',\n",
       " 0.18467752346229721: 'FINANZ_ANLEGER',\n",
       " 0.20228439946010446: 'SEMIO_DOM',\n",
       " 0.27950784584609234: 'ANZ_TITEL',\n",
       " 0.29033614356405291: 'SOHO_KZ',\n",
       " 0.41906685192055743: 'ANZ_HH_TITEL',\n",
       " 0.47062632068403232: 'SEMIO_ERL',\n",
       " 0.47167864497147965: 'ANZ_PERSONEN',\n",
       " 0.55780116804068125: 'ANREDE_KZ',\n",
       " 0.64251847532522299: 'HH_EINKOMMEN_SCORE',\n",
       " 0.83156415482257839: 'SEMIO_FAM',\n",
       " 0.91448892604499388: 'SEMIO_REL',\n",
       " 1.3890176770394997: 'FINANZ_SPARER',\n",
       " 2.8041478413654071: 'FINANZ_VORSORGER',\n",
       " 3.5356995218000415: 'FINANZ_MINIMALIST'}"
      ]
     },
     "execution_count": 107,
     "metadata": {},
     "output_type": "execute_result"
    }
   ],
   "source": [
    "map_weights(azdias_pca, 2)\n"
   ]
  },
  {
   "cell_type": "code",
   "execution_count": 108,
   "metadata": {},
   "outputs": [
    {
     "data": {
      "text/plain": [
       "{-3.0714264600122392: 'FINANZ_VORSORGER',\n",
       " -2.667331931670232: 'FINANZ_SPARER',\n",
       " -1.5535274489136823: 'KBA05_ANTG1',\n",
       " -1.4841048113215518: 'SEMIO_KULT',\n",
       " -1.4825252464360392: 'RETOURTYP_BK_S',\n",
       " -1.3845341115575422: 'SOHO_KZ',\n",
       " -1.2259088816222579: 'ANREDE_KZ',\n",
       " -1.163693408015759: 'WOHNDAUER_2008',\n",
       " -1.0251100878279393: 'FINANZ_MINIMALIST',\n",
       " -0.93695089045360958: 'FINANZ_UNAUFFAELLIGER',\n",
       " -0.70469568120706161: 'SEMIO_ERL',\n",
       " -0.63326537471765387: 'ANZ_HH_TITEL',\n",
       " -0.61626196029994396: 'ALTERSKATEGORIE_GROB',\n",
       " -0.43195526575444443: 'SEMIO_KRIT',\n",
       " -0.3826164970724657: 'SEMIO_SOZ',\n",
       " -0.26542750056843395: 'HH_EINKOMMEN_SCORE',\n",
       " -0.15946136314244649: 'SEMIO_REL',\n",
       " -0.12213141890451511: 'MIN_GEBAEUDEJAHR',\n",
       " -0.10388360145880722: 'ANZ_HAUSHALTE_AKTIV',\n",
       " -0.091087385075038441: 'W_KEIT_KIND_HH',\n",
       " -0.047565881517341244: 'GREEN_AVANTGARDE',\n",
       " 0.045906413026035452: 'SEMIO_VERT',\n",
       " 0.053046583106142811: 'KBA05_ANTG4',\n",
       " 0.16770706377565586: 'FINANZ_HAUSBAUER',\n",
       " 0.21189508854845915: 'SEMIO_DOM',\n",
       " 0.21342692207465497: 'VERS_TYP',\n",
       " 0.22874323532680033: 'SEMIO_KAEM',\n",
       " 0.23663590445726779: 'SEMIO_PFLICHT',\n",
       " 0.39820656980249575: 'SEMIO_TRADV',\n",
       " 0.48135229475636121: 'ANZ_PERSONEN',\n",
       " 0.58240269323805971: 'KONSUMNAEHE',\n",
       " 0.6815879198695175: 'ANZ_TITEL',\n",
       " 0.90151387329637089: 'SEMIO_RAT',\n",
       " 0.93562618394128327: 'KBA05_ANTG3',\n",
       " 1.1811568978504332: 'FINANZ_ANLEGER',\n",
       " 1.2375317800971561: 'KBA05_ANTG2',\n",
       " 1.4136518974362056: 'SEMIO_MAT',\n",
       " 1.4459936438097976: 'SEMIO_FAM',\n",
       " 1.773211736873066: 'SEMIO_LUST',\n",
       " 3.7253071113905758: 'HEALTH_TYP'}"
      ]
     },
     "execution_count": 108,
     "metadata": {},
     "output_type": "execute_result"
    }
   ],
   "source": [
    "map_weights(azdias_pca, 3)\n"
   ]
  },
  {
   "cell_type": "markdown",
   "metadata": {},
   "source": [
    "### Discussion 2.3: Interpret Principal Components\n",
    "\n",
    "In principle component 1, FINANZ_MINIMALIST had the largest negative weight of about -3.27 and the largest positive weight was FINANZ_SPARER at about 1.74. As we would expect, if someone has low financial interest (high value for minimalist), then they are unlikely to be a money-saver (low value for sparer).\n",
    "\n",
    "In principle component 2, FINANZ_UNAUFFAELLIGER had the largest negative weight of about -3.07 and the largest positive weight was FINANZ_MINIMALIST at about 3.53. Once again, financial typology is shown to play a large role in explaining the variance of the data. This time, the results are not as straightforward. Apparently a person that's financially inconspicious (high value for unauffaelliger) tend to have high financial interest (low value for minimalist).\n",
    "\n",
    "In principle component 3, FINANZ_VORSORGER had the largest negative weight of about -3.07 and the largest positive weight was HEALTH_TYP at about 3.72. We see that yet again, a financial typology feature plays a huge role in  this principle component. This time, it's regarding whether a person is prepared or not and the trait it seems to be inversely related to is health typology. To be honest, I'm not completely sure I understand the labels. The higher the value of health type, the more carefree about sanitation the person seems to be is what I'm getting. So the more prepared a person is, the more serious about sanitation the person is as well. This makes sense, if I'm interpreting health types right.\n"
   ]
  },
  {
   "cell_type": "markdown",
   "metadata": {},
   "source": [
    "## Step 3: Clustering\n",
    "\n",
    "### Step 3.1: Apply Clustering to General Population\n"
   ]
  },
  {
   "cell_type": "code",
   "execution_count": 70,
   "metadata": {},
   "outputs": [
    {
     "name": "stdout",
     "output_type": "stream",
     "text": [
      "25\n",
      "27\n",
      "29\n",
      "[-24176118.455147076, -23008762.253459353, -23000155.387153927]\n"
     ]
    }
   ],
   "source": [
    "cluster_dists = []\n",
    "for i in range(25, 30, 2):\n",
    "    print(i)\n",
    "    model = KMeans(i)\n",
    "    preds = model.fit_predict(azdias_pca)\n",
    "    \n",
    "    cluster_dists.append(model.score(azdias_pca))\n",
    "    \n",
    "print(cluster_dists)"
   ]
  },
  {
   "cell_type": "code",
   "execution_count": 72,
   "metadata": {},
   "outputs": [
    {
     "data": {
      "text/plain": [
       "[<matplotlib.lines.Line2D at 0x7fa310512e10>]"
      ]
     },
     "execution_count": 72,
     "metadata": {},
     "output_type": "execute_result"
    },
    {
     "data": {
      "image/png": "[encoded data removed]",
      "text/plain": [
       "<matplotlib.figure.Figure at 0x7fa2d7894828>"
      ]
     },
     "metadata": {
      "needs_background": "light"
     },
     "output_type": "display_data"
    }
   ],
   "source": [
    "saved_cluster_dists = [-30328733.980154436, -29836481.097440597, -29255989.025775455, -28871209.864524931, -28558307.279963221, -28004665.243403275, -27648680.14033284, -27122167.318700481, -26854827.172818899, -26717697.170145266, -26043279.92856231, -25832157.348281562, -25641198.156853046, -24984812.076535579, -25110669.665933907, -24804386.386623822, -23944218.656318277, -24176118.455147076, -23008762.253459353, -23000155.387153927]\n",
    "clusters = list(range(8,25))\n",
    "clusters.extend([25, 27, 29])\n",
    "plt.plot(clusters, saved_cluster_dists)\n"
   ]
  },
  {
   "cell_type": "code",
   "execution_count": 92,
   "metadata": {},
   "outputs": [],
   "source": [
    "km_model = KMeans(26)\n",
    "azdias_preds = km_model.fit_predict(azdias_pca)\n"
   ]
  },
  {
   "cell_type": "markdown",
   "metadata": {},
   "source": [
    "### Discussion 3.1: Apply Clustering to General Population\n",
    "\n",
    "There's not a very conspicious elbow in the graph, so I simply picked the second highest point which was 26. I did try a couple cluster values that were such as 15, 20, 24, and 27. When I used the kmeans fit to 15 clusters on the customer data, there was only one cluster, and as I increased the cluster values, a few more clusters appeared in the customer data but one cluster dominates the majority of the data. However, at 27, the clusters in the customer data dropped right back to one, so I think 27 clusters overfitted a bit. With cluster values 24 and 26, often times the clusters for customer data would flutuate between 2 and 4 clusters. I decided to stop with 4 clusters because it seemed more interesting to talk about.\n"
   ]
  },
  {
   "cell_type": "markdown",
   "metadata": {},
   "source": [
    "### Step 3.2: Apply All Steps to the Customer Data\n"
   ]
  },
  {
   "cell_type": "code",
   "execution_count": 56,
   "metadata": {},
   "outputs": [
    {
     "data": {
      "text/html": [
       "<div>\n",
       "<style scoped>\n",
       "    .dataframe tbody tr th:only-of-type {\n",
       "        vertical-align: middle;\n",
       "    }\n",
       "\n",
       "    .dataframe tbody tr th {\n",
       "        vertical-align: top;\n",
       "    }\n",
       "\n",
       "    .dataframe thead th {\n",
       "        text-align: right;\n",
       "    }\n",
       "</style>\n",
       "<table border=\"1\" class=\"dataframe\">\n",
       "  <thead>\n",
       "    <tr style=\"text-align: right;\">\n",
       "      <th></th>\n",
       "      <th>AGER_TYP</th>\n",
       "      <th>ALTERSKATEGORIE_GROB</th>\n",
       "      <th>ANREDE_KZ</th>\n",
       "      <th>CJT_GESAMTTYP</th>\n",
       "      <th>FINANZ_MINIMALIST</th>\n",
       "      <th>FINANZ_SPARER</th>\n",
       "      <th>FINANZ_VORSORGER</th>\n",
       "      <th>FINANZ_ANLEGER</th>\n",
       "      <th>FINANZ_UNAUFFAELLIGER</th>\n",
       "      <th>FINANZ_HAUSBAUER</th>\n",
       "      <th>...</th>\n",
       "      <th>PLZ8_ANTG1</th>\n",
       "      <th>PLZ8_ANTG2</th>\n",
       "      <th>PLZ8_ANTG3</th>\n",
       "      <th>PLZ8_ANTG4</th>\n",
       "      <th>PLZ8_BAUMAX</th>\n",
       "      <th>PLZ8_HHZ</th>\n",
       "      <th>PLZ8_GBZ</th>\n",
       "      <th>ARBEIT</th>\n",
       "      <th>ORTSGR_KLS9</th>\n",
       "      <th>RELAT_AB</th>\n",
       "    </tr>\n",
       "  </thead>\n",
       "  <tbody>\n",
       "    <tr>\n",
       "      <th>0</th>\n",
       "      <td>2</td>\n",
       "      <td>4</td>\n",
       "      <td>1</td>\n",
       "      <td>5.0</td>\n",
       "      <td>5</td>\n",
       "      <td>1</td>\n",
       "      <td>5</td>\n",
       "      <td>1</td>\n",
       "      <td>2</td>\n",
       "      <td>2</td>\n",
       "      <td>...</td>\n",
       "      <td>3.0</td>\n",
       "      <td>3.0</td>\n",
       "      <td>1.0</td>\n",
       "      <td>0.0</td>\n",
       "      <td>1.0</td>\n",
       "      <td>5.0</td>\n",
       "      <td>5.0</td>\n",
       "      <td>1.0</td>\n",
       "      <td>2.0</td>\n",
       "      <td>1.0</td>\n",
       "    </tr>\n",
       "    <tr>\n",
       "      <th>1</th>\n",
       "      <td>-1</td>\n",
       "      <td>4</td>\n",
       "      <td>1</td>\n",
       "      <td>NaN</td>\n",
       "      <td>5</td>\n",
       "      <td>1</td>\n",
       "      <td>5</td>\n",
       "      <td>1</td>\n",
       "      <td>3</td>\n",
       "      <td>2</td>\n",
       "      <td>...</td>\n",
       "      <td>NaN</td>\n",
       "      <td>NaN</td>\n",
       "      <td>NaN</td>\n",
       "      <td>NaN</td>\n",
       "      <td>NaN</td>\n",
       "      <td>NaN</td>\n",
       "      <td>NaN</td>\n",
       "      <td>NaN</td>\n",
       "      <td>NaN</td>\n",
       "      <td>NaN</td>\n",
       "    </tr>\n",
       "    <tr>\n",
       "      <th>2</th>\n",
       "      <td>-1</td>\n",
       "      <td>4</td>\n",
       "      <td>2</td>\n",
       "      <td>2.0</td>\n",
       "      <td>5</td>\n",
       "      <td>1</td>\n",
       "      <td>5</td>\n",
       "      <td>1</td>\n",
       "      <td>4</td>\n",
       "      <td>4</td>\n",
       "      <td>...</td>\n",
       "      <td>2.0</td>\n",
       "      <td>3.0</td>\n",
       "      <td>3.0</td>\n",
       "      <td>1.0</td>\n",
       "      <td>3.0</td>\n",
       "      <td>3.0</td>\n",
       "      <td>2.0</td>\n",
       "      <td>3.0</td>\n",
       "      <td>5.0</td>\n",
       "      <td>3.0</td>\n",
       "    </tr>\n",
       "    <tr>\n",
       "      <th>3</th>\n",
       "      <td>1</td>\n",
       "      <td>4</td>\n",
       "      <td>1</td>\n",
       "      <td>2.0</td>\n",
       "      <td>5</td>\n",
       "      <td>1</td>\n",
       "      <td>5</td>\n",
       "      <td>2</td>\n",
       "      <td>1</td>\n",
       "      <td>2</td>\n",
       "      <td>...</td>\n",
       "      <td>3.0</td>\n",
       "      <td>2.0</td>\n",
       "      <td>1.0</td>\n",
       "      <td>0.0</td>\n",
       "      <td>1.0</td>\n",
       "      <td>3.0</td>\n",
       "      <td>4.0</td>\n",
       "      <td>1.0</td>\n",
       "      <td>3.0</td>\n",
       "      <td>1.0</td>\n",
       "    </tr>\n",
       "    <tr>\n",
       "      <th>4</th>\n",
       "      <td>-1</td>\n",
       "      <td>3</td>\n",
       "      <td>1</td>\n",
       "      <td>6.0</td>\n",
       "      <td>3</td>\n",
       "      <td>1</td>\n",
       "      <td>4</td>\n",
       "      <td>4</td>\n",
       "      <td>5</td>\n",
       "      <td>2</td>\n",
       "      <td>...</td>\n",
       "      <td>2.0</td>\n",
       "      <td>4.0</td>\n",
       "      <td>2.0</td>\n",
       "      <td>1.0</td>\n",
       "      <td>2.0</td>\n",
       "      <td>3.0</td>\n",
       "      <td>3.0</td>\n",
       "      <td>3.0</td>\n",
       "      <td>5.0</td>\n",
       "      <td>1.0</td>\n",
       "    </tr>\n",
       "  </tbody>\n",
       "</table>\n",
       "<p>5 rows × 85 columns</p>\n",
       "</div>"
      ],
      "text/plain": [
       "   AGER_TYP  ALTERSKATEGORIE_GROB  ANREDE_KZ  CJT_GESAMTTYP  \\\n",
       "0         2                     4          1            5.0   \n",
       "1        -1                     4          1            NaN   \n",
       "2        -1                     4          2            2.0   \n",
       "3         1                     4          1            2.0   \n",
       "4        -1                     3          1            6.0   \n",
       "\n",
       "   FINANZ_MINIMALIST  FINANZ_SPARER  FINANZ_VORSORGER  FINANZ_ANLEGER  \\\n",
       "0                  5              1                 5               1   \n",
       "1                  5              1                 5               1   \n",
       "2                  5              1                 5               1   \n",
       "3                  5              1                 5               2   \n",
       "4                  3              1                 4               4   \n",
       "\n",
       "   FINANZ_UNAUFFAELLIGER  FINANZ_HAUSBAUER    ...     PLZ8_ANTG1  PLZ8_ANTG2  \\\n",
       "0                      2                 2    ...            3.0         3.0   \n",
       "1                      3                 2    ...            NaN         NaN   \n",
       "2                      4                 4    ...            2.0         3.0   \n",
       "3                      1                 2    ...            3.0         2.0   \n",
       "4                      5                 2    ...            2.0         4.0   \n",
       "\n",
       "   PLZ8_ANTG3  PLZ8_ANTG4  PLZ8_BAUMAX  PLZ8_HHZ  PLZ8_GBZ  ARBEIT  \\\n",
       "0         1.0         0.0          1.0       5.0       5.0     1.0   \n",
       "1         NaN         NaN          NaN       NaN       NaN     NaN   \n",
       "2         3.0         1.0          3.0       3.0       2.0     3.0   \n",
       "3         1.0         0.0          1.0       3.0       4.0     1.0   \n",
       "4         2.0         1.0          2.0       3.0       3.0     3.0   \n",
       "\n",
       "   ORTSGR_KLS9  RELAT_AB  \n",
       "0          2.0       1.0  \n",
       "1          NaN       NaN  \n",
       "2          5.0       3.0  \n",
       "3          3.0       1.0  \n",
       "4          5.0       1.0  \n",
       "\n",
       "[5 rows x 85 columns]"
      ]
     },
     "execution_count": 56,
     "metadata": {},
     "output_type": "execute_result"
    }
   ],
   "source": [
    "customers = pd.read_csv('Udacity_CUSTOMERS_Subset.csv', sep=\";\")\n",
    "customers.head()"
   ]
  },
  {
   "cell_type": "code",
   "execution_count": 58,
   "metadata": {},
   "outputs": [
    {
     "name": "stdout",
     "output_type": "stream",
     "text": [
      "   ALTERSKATEGORIE_GROB  ANREDE_KZ  CJT_GESAMTTYP  FINANZ_MINIMALIST  \\\n",
      "0                   4.0          1            5.0                  5   \n",
      "1                   4.0          1            NaN                  5   \n",
      "2                   4.0          2            2.0                  5   \n",
      "3                   4.0          1            2.0                  5   \n",
      "4                   3.0          1            6.0                  3   \n",
      "\n",
      "   FINANZ_SPARER  FINANZ_VORSORGER  FINANZ_ANLEGER  FINANZ_UNAUFFAELLIGER  \\\n",
      "0              1                 5               1                      2   \n",
      "1              1                 5               1                      3   \n",
      "2              1                 5               1                      4   \n",
      "3              1                 5               2                      1   \n",
      "4              1                 4               4                      5   \n",
      "\n",
      "   FINANZ_HAUSBAUER  FINANZTYP    ...     PLZ8_ANTG1  PLZ8_ANTG2  PLZ8_ANTG3  \\\n",
      "0                 2          2    ...            3.0         3.0         1.0   \n",
      "1                 2          2    ...            NaN         NaN         NaN   \n",
      "2                 4          2    ...            2.0         3.0         3.0   \n",
      "3                 2          6    ...            3.0         2.0         1.0   \n",
      "4                 2          2    ...            2.0         4.0         2.0   \n",
      "\n",
      "   PLZ8_ANTG4  PLZ8_BAUMAX  PLZ8_HHZ  PLZ8_GBZ  ARBEIT  ORTSGR_KLS9  RELAT_AB  \n",
      "0         0.0          1.0       5.0       5.0     1.0          2.0       1.0  \n",
      "1         NaN          NaN       NaN       NaN     NaN          NaN       NaN  \n",
      "2         1.0          3.0       3.0       2.0     3.0          5.0       3.0  \n",
      "3         0.0          1.0       3.0       4.0     1.0          3.0       1.0  \n",
      "4         1.0          2.0       3.0       3.0     3.0          5.0       1.0  \n",
      "\n",
      "[5 rows x 79 columns]\n"
     ]
    }
   ],
   "source": [
    "customers = clean_data(customers)"
   ]
  },
  {
   "cell_type": "code",
   "execution_count": 59,
   "metadata": {},
   "outputs": [
    {
     "data": {
      "text/html": [
       "<div>\n",
       "<style scoped>\n",
       "    .dataframe tbody tr th:only-of-type {\n",
       "        vertical-align: middle;\n",
       "    }\n",
       "\n",
       "    .dataframe tbody tr th {\n",
       "        vertical-align: top;\n",
       "    }\n",
       "\n",
       "    .dataframe thead th {\n",
       "        text-align: right;\n",
       "    }\n",
       "</style>\n",
       "<table border=\"1\" class=\"dataframe\">\n",
       "  <thead>\n",
       "    <tr style=\"text-align: right;\">\n",
       "      <th></th>\n",
       "      <th>ALTERSKATEGORIE_GROB</th>\n",
       "      <th>ANREDE_KZ</th>\n",
       "      <th>FINANZ_MINIMALIST</th>\n",
       "      <th>FINANZ_SPARER</th>\n",
       "      <th>FINANZ_VORSORGER</th>\n",
       "      <th>FINANZ_ANLEGER</th>\n",
       "      <th>FINANZ_UNAUFFAELLIGER</th>\n",
       "      <th>FINANZ_HAUSBAUER</th>\n",
       "      <th>GREEN_AVANTGARDE</th>\n",
       "      <th>HEALTH_TYP</th>\n",
       "      <th>...</th>\n",
       "      <th>LP_FAMILIE_FEIN_6.0</th>\n",
       "      <th>LP_FAMILIE_FEIN_7.0</th>\n",
       "      <th>LP_FAMILIE_FEIN_8.0</th>\n",
       "      <th>LP_FAMILIE_FEIN_9.0</th>\n",
       "      <th>LP_FAMILIE_FEIN_10.0</th>\n",
       "      <th>LP_FAMILIE_FEIN_11.0</th>\n",
       "      <th>Decade</th>\n",
       "      <th>Movement</th>\n",
       "      <th>Wealth</th>\n",
       "      <th>Lifestage</th>\n",
       "    </tr>\n",
       "  </thead>\n",
       "  <tbody>\n",
       "    <tr>\n",
       "      <th>0</th>\n",
       "      <td>4.0</td>\n",
       "      <td>1</td>\n",
       "      <td>5</td>\n",
       "      <td>1</td>\n",
       "      <td>5</td>\n",
       "      <td>1</td>\n",
       "      <td>2</td>\n",
       "      <td>2</td>\n",
       "      <td>1</td>\n",
       "      <td>1.0</td>\n",
       "      <td>...</td>\n",
       "      <td>0</td>\n",
       "      <td>0</td>\n",
       "      <td>0</td>\n",
       "      <td>0</td>\n",
       "      <td>0</td>\n",
       "      <td>0</td>\n",
       "      <td>2</td>\n",
       "      <td>1</td>\n",
       "      <td>1</td>\n",
       "      <td>3</td>\n",
       "    </tr>\n",
       "    <tr>\n",
       "      <th>2</th>\n",
       "      <td>4.0</td>\n",
       "      <td>2</td>\n",
       "      <td>5</td>\n",
       "      <td>1</td>\n",
       "      <td>5</td>\n",
       "      <td>1</td>\n",
       "      <td>4</td>\n",
       "      <td>4</td>\n",
       "      <td>1</td>\n",
       "      <td>2.0</td>\n",
       "      <td>...</td>\n",
       "      <td>0</td>\n",
       "      <td>0</td>\n",
       "      <td>0</td>\n",
       "      <td>0</td>\n",
       "      <td>0</td>\n",
       "      <td>0</td>\n",
       "      <td>2</td>\n",
       "      <td>1</td>\n",
       "      <td>3</td>\n",
       "      <td>4</td>\n",
       "    </tr>\n",
       "    <tr>\n",
       "      <th>4</th>\n",
       "      <td>3.0</td>\n",
       "      <td>1</td>\n",
       "      <td>3</td>\n",
       "      <td>1</td>\n",
       "      <td>4</td>\n",
       "      <td>4</td>\n",
       "      <td>5</td>\n",
       "      <td>2</td>\n",
       "      <td>0</td>\n",
       "      <td>3.0</td>\n",
       "      <td>...</td>\n",
       "      <td>0</td>\n",
       "      <td>0</td>\n",
       "      <td>0</td>\n",
       "      <td>0</td>\n",
       "      <td>1</td>\n",
       "      <td>0</td>\n",
       "      <td>4</td>\n",
       "      <td>0</td>\n",
       "      <td>4</td>\n",
       "      <td>1</td>\n",
       "    </tr>\n",
       "    <tr>\n",
       "      <th>5</th>\n",
       "      <td>3.0</td>\n",
       "      <td>1</td>\n",
       "      <td>5</td>\n",
       "      <td>1</td>\n",
       "      <td>5</td>\n",
       "      <td>1</td>\n",
       "      <td>2</td>\n",
       "      <td>3</td>\n",
       "      <td>1</td>\n",
       "      <td>3.0</td>\n",
       "      <td>...</td>\n",
       "      <td>0</td>\n",
       "      <td>0</td>\n",
       "      <td>0</td>\n",
       "      <td>0</td>\n",
       "      <td>0</td>\n",
       "      <td>0</td>\n",
       "      <td>2</td>\n",
       "      <td>1</td>\n",
       "      <td>3</td>\n",
       "      <td>4</td>\n",
       "    </tr>\n",
       "    <tr>\n",
       "      <th>6</th>\n",
       "      <td>4.0</td>\n",
       "      <td>1</td>\n",
       "      <td>5</td>\n",
       "      <td>1</td>\n",
       "      <td>5</td>\n",
       "      <td>1</td>\n",
       "      <td>1</td>\n",
       "      <td>2</td>\n",
       "      <td>1</td>\n",
       "      <td>2.0</td>\n",
       "      <td>...</td>\n",
       "      <td>0</td>\n",
       "      <td>0</td>\n",
       "      <td>0</td>\n",
       "      <td>0</td>\n",
       "      <td>0</td>\n",
       "      <td>0</td>\n",
       "      <td>2</td>\n",
       "      <td>1</td>\n",
       "      <td>2</td>\n",
       "      <td>3</td>\n",
       "    </tr>\n",
       "  </tbody>\n",
       "</table>\n",
       "<p>5 rows × 80 columns</p>\n",
       "</div>"
      ],
      "text/plain": [
       "   ALTERSKATEGORIE_GROB  ANREDE_KZ  FINANZ_MINIMALIST  FINANZ_SPARER  \\\n",
       "0                   4.0          1                  5              1   \n",
       "2                   4.0          2                  5              1   \n",
       "4                   3.0          1                  3              1   \n",
       "5                   3.0          1                  5              1   \n",
       "6                   4.0          1                  5              1   \n",
       "\n",
       "   FINANZ_VORSORGER  FINANZ_ANLEGER  FINANZ_UNAUFFAELLIGER  FINANZ_HAUSBAUER  \\\n",
       "0                 5               1                      2                 2   \n",
       "2                 5               1                      4                 4   \n",
       "4                 4               4                      5                 2   \n",
       "5                 5               1                      2                 3   \n",
       "6                 5               1                      1                 2   \n",
       "\n",
       "   GREEN_AVANTGARDE  HEALTH_TYP    ...      LP_FAMILIE_FEIN_6.0  \\\n",
       "0                 1         1.0    ...                        0   \n",
       "2                 1         2.0    ...                        0   \n",
       "4                 0         3.0    ...                        0   \n",
       "5                 1         3.0    ...                        0   \n",
       "6                 1         2.0    ...                        0   \n",
       "\n",
       "   LP_FAMILIE_FEIN_7.0  LP_FAMILIE_FEIN_8.0  LP_FAMILIE_FEIN_9.0  \\\n",
       "0                    0                    0                    0   \n",
       "2                    0                    0                    0   \n",
       "4                    0                    0                    0   \n",
       "5                    0                    0                    0   \n",
       "6                    0                    0                    0   \n",
       "\n",
       "   LP_FAMILIE_FEIN_10.0  LP_FAMILIE_FEIN_11.0  Decade  Movement  Wealth  \\\n",
       "0                     0                     0       2         1       1   \n",
       "2                     0                     0       2         1       3   \n",
       "4                     1                     0       4         0       4   \n",
       "5                     0                     0       2         1       3   \n",
       "6                     0                     0       2         1       2   \n",
       "\n",
       "   Lifestage  \n",
       "0          3  \n",
       "2          4  \n",
       "4          1  \n",
       "5          4  \n",
       "6          3  \n",
       "\n",
       "[5 rows x 80 columns]"
      ]
     },
     "execution_count": 59,
     "metadata": {},
     "output_type": "execute_result"
    }
   ],
   "source": [
    "customers.head()"
   ]
  },
  {
   "cell_type": "code",
   "execution_count": 93,
   "metadata": {},
   "outputs": [],
   "source": [
    "customers_pca = pca.transform(customers)\n",
    "customers_preds = km_model.predict(customers_pca)"
   ]
  },
  {
   "cell_type": "markdown",
   "metadata": {},
   "source": [
    "### Step 3.3: Compare Customer Data to Demographics Data\n"
   ]
  },
  {
   "cell_type": "code",
   "execution_count": 94,
   "metadata": {},
   "outputs": [
    {
     "data": {
      "image/png": "[encoded data removed]",
      "text/plain": [
       "<matplotlib.figure.Figure at 0x7fa2d44cfb38>"
      ]
     },
     "metadata": {
      "needs_background": "light"
     },
     "output_type": "display_data"
    }
   ],
   "source": [
    "f, axes = plt.subplots(1, 2, figsize=(20, 5))\n",
    "sns.countplot(x = azdias_preds, ax=axes[0])\n",
    "sns.countplot(x = customers_preds, ax=axes[1])\n",
    "plt.tight_layout()\n"
   ]
  },
  {
   "cell_type": "code",
   "execution_count": 116,
   "metadata": {},
   "outputs": [
    {
     "data": {
      "text/plain": [
       "array([ 0,  5, 19, ..., 21, 23,  8], dtype=int32)"
      ]
     },
     "execution_count": 116,
     "metadata": {},
     "output_type": "execute_result"
    }
   ],
   "source": [
    "azdias_preds"
   ]
  },
  {
   "cell_type": "code",
   "execution_count": 122,
   "metadata": {},
   "outputs": [
    {
     "data": {
      "image/png": "[encoded data removed]",
      "text/plain": [
       "<matplotlib.figure.Figure at 0x7fa2d78de9e8>"
      ]
     },
     "metadata": {
      "needs_background": "light"
     },
     "output_type": "display_data"
    }
   ],
   "source": [
    "#plot in percentages\n",
    "azdias_preds_perc = [np.sum(azdias_preds == i)/len(azdias_preds) for i in range(26)]\n",
    "customers_preds_perc = [np.sum(customers_preds == i)/len(customers_preds) for i in range(26)]\n",
    "f, axes = plt.subplots(1, 2, figsize=(20, 5))\n",
    "c_clusters = list(range(26))\n",
    "sns.barplot(x = c_clusters, y = azdias_preds_perc, ax=axes[0])\n",
    "sns.barplot(x = c_clusters, y = customers_preds_perc, ax=axes[1])\n",
    "plt.tight_layout()"
   ]
  },
  {
   "cell_type": "code",
   "execution_count": 149,
   "metadata": {},
   "outputs": [],
   "source": [
    "def map_cluster(cluster):\n",
    "    d = dict(zip(cluster, col_names))\n",
    "    sorted_d = {}\n",
    "    for i in sorted (d.keys()):\n",
    "        sorted_d[i] = d[i]\n",
    "    return sorted_d"
   ]
  },
  {
   "cell_type": "code",
   "execution_count": 152,
   "metadata": {},
   "outputs": [
    {
     "name": "stdout",
     "output_type": "stream",
     "text": [
      "{-0.024756361013675884: 'FINANZTYP_4', -0.020685962110566836: 'FINANZTYP_1', -0.0014521685515495042: 'KBA05_ANTG4', 6.3729700777267161e-05: 'ANZ_TITEL', 0.00021939151321451363: 'LP_FAMILIE_FEIN_5.0', 0.00043737476672112054: 'LP_FAMILIE_FEIN_3.0', 0.00048372881041766624: 'ANZ_HH_TITEL', 0.00073902821557143665: 'LP_FAMILIE_FEIN_6.0', 0.00083998335998519864: 'LP_FAMILIE_FEIN_4.0', 0.0010064172626677963: 'LP_FAMILIE_FEIN_7.0', 0.0017806066023005052: 'FINANZTYP_6', 0.0030738378798962213: 'LP_FAMILIE_FEIN_8.0', 0.0093115713328794404: 'SOHO_KZ', 0.021290848415511571: 'FINANZTYP_2', 0.024360107378618365: 'LP_FAMILIE_FEIN_9.0', 0.040876311549409086: 'FINANZTYP_5', 0.044248731215902892: 'KBA05_ANTG3', 0.10801371549448222: 'LP_FAMILIE_FEIN_2.0', 0.20894462445572171: 'LP_FAMILIE_FEIN_11.0', 0.31462164485857308: 'PLZ8_ANTG4', 0.31701144170433426: 'LP_FAMILIE_FEIN_1.0', 0.33535407796878591: 'LP_FAMILIE_FEIN_10.0', 0.50454551362899669: 'GREEN_AVANTGARDE', 0.50454551362899702: 'Movement', 0.91694217256532262: 'FINANZ_HAUSBAUER', 0.95514172633831707: 'PLZ8_ANTG3', 0.98149455655702089: 'FINANZTYP_3', 1.1368989346249505: 'KBA05_ANTG2', 1.3225116132645329: 'ANREDE_KZ', 1.5168297516758908: 'ANZ_HAUSHALTE_AKTIV', 1.5310491337250418: 'VERS_TYP', 1.7813269153375488: 'FINANZ_VORSORGER', 2.2142228646873328: 'ALTERSKATEGORIE_GROB', 2.2327922625806114: 'HEALTH_TYP', 2.2802813194242222: 'PLZ8_ANTG2', 2.3423632023900263: 'Wealth', 2.4995739697960078: 'RETOURTYP_BK_S', 2.5490101408522499: 'RELAT_AB', 2.5628499134532117: 'ANZ_PERSONEN', 2.6546514711835445: 'KKK', 2.715715014708223: 'ARBEIT', 2.8074342518455744: 'KBA05_ANTG1', 2.9266609768589: 'PLZ8_ANTG1', 3.0509120712564322: 'HH_EINKOMMEN_SCORE', 3.1253802718594677: 'EWDICHTE', 3.3414172003689262: 'W_KEIT_KIND_HH', 3.3860866196900132: 'Lifestage', 3.3874971782282981: 'FINANZ_ANLEGER', 3.5097231523884798: 'SEMIO_KAEM', 3.5431951821326644: 'SEMIO_ERL', 3.5487166153762359: 'PLZ8_HHZ', 3.6028463520833274: 'FINANZ_SPARER', 3.6530014412091782: 'SEMIO_LUST', 3.7310762167614961: 'KONSUMNAEHE', 3.8281163632771982: 'SEMIO_KRIT', 3.8724009314186816: 'ONLINE_AFFINITAET', 3.8849992136366951: 'PLZ8_GBZ', 4.0542051882368746: 'GEBAEUDETYP_RASTER', 4.1040573657819541: 'SEMIO_DOM', 4.1349940168172452: 'KBA05_GBZ', 4.184785258979332: 'FINANZ_MINIMALIST', 4.184877236285752: 'ORTSGR_KLS9', 4.199483294454442: 'REGIOTYP', 4.219488536174369: 'MOBI_REGIO', 4.2442073217906815: 'SEMIO_RAT', 4.2459555300809386: 'FINANZ_UNAUFFAELLIGER', 4.3844919722187603: 'SEMIO_MAT', 4.5281094912407953: 'SEMIO_TRADV', 4.806197356007587: 'BALLRAUM', 4.9721827977951154: 'SEMIO_FAM', 5.0076950394619564: 'SEMIO_REL', 5.1241123447696015: 'SEMIO_VERT', 5.2180110028268665: 'SEMIO_PFLICHT', 5.3406438854740284: 'INNENSTADT', 5.3497729412542405: 'SEMIO_KULT', 5.4289747667055241: 'SEMIO_SOZ', 5.6619139254353996: 'Decade', 7.959547743344948: 'WOHNDAUER_2008', 693.55688664644754: 'KBA13_ANZAHL_PKW', 1992.9559674580548: 'MIN_GEBAEUDEJAHR'}\n"
     ]
    }
   ],
   "source": [
    "#overrepresented\n",
    "clu4=standard_scaler.inverse_transform(pca.inverse_transform(km_model.cluster_centers_[4]))\n",
    "print(map_cluster(clu4))"
   ]
  },
  {
   "cell_type": "code",
   "execution_count": 154,
   "metadata": {},
   "outputs": [
    {
     "name": "stdout",
     "output_type": "stream",
     "text": [
      "{-0.02398600784777466: 'FINANZTYP_1', -0.0042313389769966098: 'FINANZTYP_4', -0.00075378929431367363: 'LP_FAMILIE_FEIN_5.0', -0.00047908487417429313: 'FINANZTYP_3', -0.00021847571479978109: 'ANZ_TITEL', 4.4400024419334605e-05: 'LP_FAMILIE_FEIN_8.0', 0.00051286993310695889: 'LP_FAMILIE_FEIN_3.0', 0.00060383641326933538: 'LP_FAMILIE_FEIN_6.0', 0.00080070735381570189: 'LP_FAMILIE_FEIN_4.0', 0.00087386506556080823: 'LP_FAMILIE_FEIN_7.0', 0.0051096032481304302: 'ANZ_HH_TITEL', 0.010100450125136303: 'SOHO_KZ', 0.014317777436631152: 'LP_FAMILIE_FEIN_9.0', 0.021859737221666897: 'GREEN_AVANTGARDE', 0.021859737221666925: 'Movement', 0.022435609416500524: 'KBA05_ANTG4', 0.093398451311650893: 'FINANZTYP_5', 0.095399931412897265: 'KBA05_ANTG3', 0.09542661108556709: 'LP_FAMILIE_FEIN_11.0', 0.12199546006291995: 'PLZ8_ANTG4', 0.20679048539627365: 'LP_FAMILIE_FEIN_2.0', 0.21485970418336026: 'LP_FAMILIE_FEIN_10.0', 0.30216452189827481: 'FINANZTYP_2', 0.46652353240230959: 'LP_FAMILIE_FEIN_1.0', 0.6331334584890197: 'FINANZTYP_6', 0.72467054723719471: 'PLZ8_ANTG3', 1.0376760197861734: 'KBA05_ANTG2', 1.0818020300500684: 'ANREDE_KZ', 1.601257314427101: 'VERS_TYP', 1.6681792377619291: 'FINANZ_UNAUFFAELLIGER', 1.6812418587894922: 'FINANZ_SPARER', 1.9443479735331177: 'ANZ_PERSONEN', 2.1699742295166571: 'FINANZ_ANLEGER', 2.1895483025747087: 'PLZ8_ANTG2', 2.215759367312454: 'FINANZ_HAUSBAUER', 2.2834102361615347: 'ANZ_HAUSHALTE_AKTIV', 2.3091072298283537: 'RELAT_AB', 2.3162574879090743: 'HEALTH_TYP', 2.3673011854664079: 'EWDICHTE', 2.483738874474831: 'SEMIO_KAEM', 2.4843141462233582: 'Wealth', 2.5700730656752069: 'SEMIO_RAT', 2.5855365882452812: 'ONLINE_AFFINITAET', 2.5919428003358762: 'ARBEIT', 2.6118388701501241: 'KBA05_ANTG1', 2.7960974027342651: 'SEMIO_TRADV', 2.9634026053416305: 'KKK', 3.0407497325258865: 'PLZ8_ANTG1', 3.1385819149567142: 'SEMIO_DOM', 3.1543887990571071: 'ORTSGR_KLS9', 3.2261251416781223: 'PLZ8_HHZ', 3.2271758521873193: 'SEMIO_PFLICHT', 3.3026436586077215: 'SEMIO_MAT', 3.3238466821363382: 'Lifestage', 3.334544685837693: 'ALTERSKATEGORIE_GROB', 3.4885849065443022: 'Decade', 3.5866869329902142: 'SEMIO_KRIT', 3.673249922791241: 'SEMIO_REL', 3.7453854879935307: 'RETOURTYP_BK_S', 3.8362265910886446: 'PLZ8_GBZ', 3.9706916157422572: 'HH_EINKOMMEN_SCORE', 3.9948777433160347: 'KONSUMNAEHE', 4.0939922795223822: 'GEBAEUDETYP_RASTER', 4.1721649740725733: 'KBA05_GBZ', 4.1791457505005924: 'MOBI_REGIO', 4.3461976574407464: 'FINANZ_VORSORGER', 4.3560665820401097: 'SEMIO_ERL', 4.5101427032861583: 'W_KEIT_KIND_HH', 4.5302063996992175: 'FINANZ_MINIMALIST', 4.5672491592847946: 'REGIOTYP', 4.6485045992517637: 'SEMIO_FAM', 4.7143636899018482: 'SEMIO_SOZ', 4.8935999083122796: 'SEMIO_LUST', 4.8972697349209335: 'SEMIO_KULT', 5.4520644363987136: 'BALLRAUM', 5.7703882714008046: 'SEMIO_VERT', 6.0222036045475935: 'INNENSTADT', 8.3912417332580951: 'WOHNDAUER_2008', 646.84089229773133: 'KBA13_ANZAHL_PKW', 1992.8300990007283: 'MIN_GEBAEUDEJAHR'}\n"
     ]
    }
   ],
   "source": [
    "#underrepresented\n",
    "clu15=standard_scaler.inverse_transform(pca.inverse_transform(km_model.cluster_centers_[15]))\n",
    "print(map_cluster(clu15))"
   ]
  },
  {
   "cell_type": "markdown",
   "metadata": {},
   "source": [
    "### Discussion 3.3: Compare Customer Data to Demographics Data\n",
    "\n",
    "The company's customer base is clearly not universal. In fact, most of the customer base is in cluster 4 with very few in 3 other clusters. Cluster 4 is clearly the target audience for the company while the other clusters are not. I'll be looking at cluster 4 which is overrepresented in the customer dataset, and also at cluster 15 which is underrepresented by the dataset. \n",
    "\n",
    "As shown by the two sets of histograms, cluster 4 contains nearly 100,000 (90%) of the datapoints in the customer dataset while it only encompasses near 20,000 (3%) of the datapoints in the general dataset. I'll be looking at cluster 15 as the underrepresented cluster since the other existent clusters in the customer dataset, though are small, correspond pretty closely to the general dataset. Cluster 11 contains less than 10,000 (5%) of the datapoints in the customer dataset and contains near 35,000 (5.5%) in the general dataset. Cluster 14 contains near than 10,000 (8%) of the datapoints in the customer dataset and contains near 12,000 (2%) in the general dataset. It's actually slightly overrepresented. And cluster 24 which isn't even visible on the customer dataset histograms has a total of 81 datapoints, making up 0.007% of the customer dataset, and it also makes up a very low percentage of the general dataset. Hence, for the truly underrepresented cluster, I'll be looking at cluster 15, which makes up the greatest percentage of the general dataset, near 8%, but doesn't make up any part of the customer dataset.\n",
    "\n",
    "My method of looking at the kinds of people typified by these clusters is to use inverse transform on the cluster centers to transform them back to the original data space, map them to the column variables, then sort them so that the highest column variables could be easily seen. \n",
    "\n",
    "The centroid of cluster 4 has KBA13_ANZAHL_PKW - 693.56 (Number of cars in the PLZ8 region) and MIN_GEBAEUDEJAHR - 1992.96 (First year building was mentioned in the database) as its highest values. However, this is only because the values themselves are high in the first place since they measure number of cars and the other is a year number. The other values that were high are mostly of the SEMIO series: SEMIO_MAT - 4.38 (materialistic), SEMIO_TRADV - 4.53 (traditional-minded), SEMIO_FAM - 4.97 (family-minded), SEMIO_REL - 5.01 (religious), SEMIO_VERT - 5.12 (dreamful), SEMIO_PFLICHT - 5.22 (dutiful), SEMIO_KULT - 5.35 (cultural-minded), SEMIO_SOZ - 5.66 (socially-minded). WOHNDAUER_2008 - 7.96 (Length of residence), Decade - 5.66 (around 80s to 90s), INNENSTADT - 5.34 (10-20km to city center). Some other interesting variables are ANZ_PERSONEN - 2.56 (number of adults in household), Lifestage - 3.39 (Families With School Age Children), Wealth - 2.34 (upper middle class), FINANZ_SPARER - 3.60, and FINANZ_MINIMALIST - 4.18.  So in general, the personality typology for this group is average affinity. There's an average of 693 cars in the region, the decade is around the 80s to 90s, and they live around 10-20km away from the center of the city. There's generally about 2-3 adults and some children in the household and they're of the upper middle class. In regards to their finances, they tend to have high financial interest and are average to low money-savers.\n",
    "\n",
    "\n",
    "\n",
    "The centroid of cluster 15 also has KBA13_ANZAHL_PKW - 646.84 and MIN_GEBAEUDEJAHR - 1992.83 as its highest values and personality typology values are also similar to the centroid of cluster 4 with most values being average affinity. WOHNDAUER_2008 - 8.39 (Length of residence), Decade - 3.48 (around 60s to 70s), INNENSTADT - 8.39 (more than 40km to city center), ANZ_PERSONEN - 1.94 (number of adults in household), Lifestage - 3.33, Wealth - 2.57 (upper middle class), FINANZ_SPARER - 1.68, and FINANZ_MINIMALIST - 4.53. The population of this cluster are also of middle class wealth and in the stage of life where they are families with school age children. They are likely older than the group in cluster 4 as shown by the decade and length of residence values, and they live in slightly more spreadout households as shown by the number of adults in households. In regards to their finances, they tend to have high financial interest and are big on saving money. The greatest difference is probably their distance from the city center, they are more than 40km from the city center. This in addition to the fact that they're more interested in saving money compared to the people in cluster 4 might explain why they're not popular with the company, since it might cost a lot and take longer time to deliver to people that live far away from the city compared to those that live closer to the city.\n",
    "\n"
   ]
  }
 ],
 "metadata": {
  "kernelspec": {
   "display_name": "Python 3",
   "language": "python",
   "name": "python3"
  },
  "language_info": {
   "codemirror_mode": {
    "name": "ipython",
    "version": 3
   },
   "file_extension": ".py",
   "mimetype": "text/x-python",
   "name": "python",
   "nbconvert_exporter": "python",
   "pygments_lexer": "ipython3",
   "version": "3.7.7"
  }
 },
 "nbformat": 4,
 "nbformat_minor": 2
}
